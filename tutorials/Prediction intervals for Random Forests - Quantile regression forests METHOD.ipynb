{
 "cells": [
  {
   "cell_type": "markdown",
   "metadata": {},
   "source": [
    "# Introduction"
   ]
  },
  {
   "cell_type": "code",
   "execution_count": 1,
   "metadata": {},
   "outputs": [],
   "source": [
    "\"\"\"\n",
    "What? Prediction intervals for Random Forests - Quantile regression forests\n",
    "\n",
    "Reference: https://blog.datadive.net/prediction-intervals-for-random-forests/\n",
    "\"\"\""
   ]
  },
  {
   "cell_type": "markdown",
   "metadata": {},
   "source": [
    "# Prediction vs. confidence interval"
   ]
  },
  {
   "cell_type": "code",
   "execution_count": 2,
   "metadata": {},
   "outputs": [],
   "source": [
    "\"\"\"\n",
    "A CONFIDENCE interval quantifies the uncertainty on an estimated population variable, such as the mean or \n",
    "standard deviation. It can be used to quantify the uncertainty of the estimated skill of a model.\n",
    "\n",
    "A PREDICTION interval quantifies the uncertainty on a single observation estimated from the population. It\n",
    "can be used to quantify the uncertainty of a single forecast. \n",
    "\"\"\""
   ]
  },
  {
   "cell_type": "markdown",
   "metadata": {},
   "source": [
    "# Import libraries/modules"
   ]
  },
  {
   "cell_type": "code",
   "execution_count": 3,
   "metadata": {},
   "outputs": [],
   "source": [
    "from sklearn.ensemble import RandomForestRegressor\n",
    "import numpy as np\n",
    "from sklearn.datasets import load_boston\n",
    "from sklearn.model_selection import train_test_split\n",
    "import pandas as pd\n",
    "%matplotlib inline\n",
    "import matplotlib.pyplot as plt"
   ]
  },
  {
   "cell_type": "markdown",
   "metadata": {},
   "source": [
    "# Dataset"
   ]
  },
  {
   "cell_type": "code",
   "execution_count": 4,
   "metadata": {},
   "outputs": [
    {
     "data": {
      "text/plain": [
       "'\\nLet’s look at the well-known Boston housing dataset and try to create prediction intervals \\nusing vanilla random forest from scikit-learn:\\n'"
      ]
     },
     "execution_count": 4,
     "metadata": {},
     "output_type": "execute_result"
    }
   ],
   "source": [
    "\"\"\"\n",
    "Let’s look at the well-known Boston housing dataset and try to create prediction intervals \n",
    "using vanilla random forest from scikit-learn:\n",
    "\"\"\""
   ]
  },
  {
   "cell_type": "code",
   "execution_count": 5,
   "metadata": {},
   "outputs": [
    {
     "name": "stdout",
     "output_type": "stream",
     "text": [
      "506\n"
     ]
    }
   ],
   "source": [
    "boston = load_boston()\n",
    "X = boston[\"data\"]\n",
    "Y = boston[\"target\"]\n",
    "size = len(boston[\"data\"])\n",
    "print(len(X))"
   ]
  },
  {
   "cell_type": "code",
   "execution_count": 6,
   "metadata": {},
   "outputs": [
    {
     "data": {
      "text/plain": [
       "'\\nWe’ll use 400 samples for training, leaving 106 samples for test. The size of the forest \\nshould be relatively large, so let’s use 1000 trees.\\n'"
      ]
     },
     "execution_count": 6,
     "metadata": {},
     "output_type": "execute_result"
    }
   ],
   "source": [
    "\"\"\"\n",
    "We’ll use 400 samples for training, leaving 106 samples for test. The size of the forest \n",
    "should be relatively large, so let’s use 1000 trees.\n",
    "\"\"\""
   ]
  },
  {
   "cell_type": "code",
   "execution_count": 7,
   "metadata": {},
   "outputs": [],
   "source": [
    "trainsize = 400\n",
    "idx = list(range(size))\n",
    "# shuffle the data\n",
    "np.random.shuffle(idx)"
   ]
  },
  {
   "cell_type": "code",
   "execution_count": 8,
   "metadata": {},
   "outputs": [
    {
     "data": {
      "text/plain": [
       "RandomForestRegressor()"
      ]
     },
     "execution_count": 8,
     "metadata": {},
     "output_type": "execute_result"
    }
   ],
   "source": [
    "rf = RandomForestRegressor(n_estimators=100, min_samples_leaf=1)\n",
    "rf.fit(X[idx[:trainsize]], Y[idx[:trainsize]])"
   ]
  },
  {
   "cell_type": "markdown",
   "metadata": {},
   "source": [
    "# Quantile regression forests"
   ]
  },
  {
   "cell_type": "code",
   "execution_count": 9,
   "metadata": {},
   "outputs": [
    {
     "data": {
      "text/plain": [
       "'\\nA general method for finding confidence intervals for decision tree based methods is Quantile \\nRegression Forests. The idea: instead of recording the mean value of response variables in each tree leaf in \\nthe forest, record all observed responses in the leaf.  The prediction can then return not just the mean of \\nthe response variables, but the full conditional distribution P(Y≤y∣X=x) of response values for every x. \\nUsing the distribution, it is trivial to create prediction intervals for new instances simply by using the \\nappropriate percentiles of the distribution. For example, the 95% prediction intervals would be the range \\nbetween 2.5 and 97.5 percentiles of the distribution of the response variables in the leaves.\\n'"
      ]
     },
     "execution_count": 9,
     "metadata": {},
     "output_type": "execute_result"
    }
   ],
   "source": [
    "\"\"\"\n",
    "A general method for finding confidence intervals for decision tree based methods is Quantile \n",
    "Regression Forests. The idea: instead of recording the mean value of response variables in each tree leaf in \n",
    "the forest, record all observed responses in the leaf.  The prediction can then return not just the mean of \n",
    "the response variables, but the full conditional distribution P(Y≤y∣X=x) of response values for every x. \n",
    "Using the distribution, it is trivial to create prediction intervals for new instances simply by using the \n",
    "appropriate percentiles of the distribution. For example, the 95% prediction intervals would be the range \n",
    "between 2.5 and 97.5 percentiles of the distribution of the response variables in the leaves.\n",
    "\"\"\""
   ]
  },
  {
   "cell_type": "code",
   "execution_count": 10,
   "metadata": {},
   "outputs": [
    {
     "data": {
      "text/plain": [
       "'\\nBut here’s a nice thing: one can use a random forest as quantile regression forest simply by expanding the tree \\nfully so that each leaf has exactly one value. (And expanding the trees fully is in fact what Breiman suggested \\nin his original random forest paper.) Then a prediction trivially returns individual response variables from \\nwhich the distribution can be built if the forest is large enough. One caveat is that expanding the tree fully \\ncan overfit: if that does happen, the intervals will be useless, just as the predictions. The nice thing is that \\njust like accuracy and precision, the intervals can be cross-validated.\\n'"
      ]
     },
     "execution_count": 10,
     "metadata": {},
     "output_type": "execute_result"
    }
   ],
   "source": [
    "\"\"\"\n",
    "But here’s a nice thing: one can use a random forest as quantile regression forest simply by expanding the tree \n",
    "fully so that each leaf has exactly one value. (And expanding the trees fully is in fact what Breiman suggested \n",
    "in his original random forest paper.) Then a prediction trivially returns individual response variables from \n",
    "which the distribution can be built if the forest is large enough. One caveat is that expanding the tree fully \n",
    "can overfit: if that does happen, the intervals will be useless, just as the predictions. The nice thing is that \n",
    "just like accuracy and precision, the intervals can be cross-validated.\n",
    "\"\"\""
   ]
  },
  {
   "cell_type": "code",
   "execution_count": 11,
   "metadata": {},
   "outputs": [],
   "source": [
    "def pred_ints(model, X, percentile=95):\n",
    "    err_down = []\n",
    "    err_up = []\n",
    "    err_mean = []\n",
    "    for x in range(len(X)):\n",
    "        preds = []\n",
    "        for pred in model.estimators_:\n",
    "\n",
    "            # preds.append(pred.predict(X[x])[0])\n",
    "            # We need to reshape because it considers a single samlep\n",
    "            #print(pred.predict(X[x].reshape(1, -1)))\n",
    "            preds.append(pred.predict(X[x].reshape(1, -1)))\n",
    "\n",
    "        err_down.append(np.percentile(preds, (100 - percentile) / 2.))\n",
    "        err_up.append(np.percentile(preds, 100 - (100 - percentile) / 2.))\n",
    "        err_mean.append(np.mean(preds))\n",
    "    return err_down, err_up, err_mean"
   ]
  },
  {
   "cell_type": "code",
   "execution_count": 12,
   "metadata": {},
   "outputs": [
    {
     "data": {
      "text/plain": [
       "'\\nLet’s compute 90% prediction intervals and test how many observations in the test set fall \\ninto the interval.\\n'"
      ]
     },
     "execution_count": 12,
     "metadata": {},
     "output_type": "execute_result"
    }
   ],
   "source": [
    "\"\"\"\n",
    "Let’s compute 90% prediction intervals and test how many observations in the test set fall \n",
    "into the interval.\n",
    "\"\"\""
   ]
  },
  {
   "cell_type": "code",
   "execution_count": 13,
   "metadata": {},
   "outputs": [
    {
     "name": "stdout",
     "output_type": "stream",
     "text": [
      "400\n",
      "106\n",
      "0.8867924528301887\n"
     ]
    }
   ],
   "source": [
    "print(trainsize)\n",
    "print(len(X[idx[trainsize:]]))\n",
    "err_down, err_up, err_mean = pred_ints(rf, X[idx[trainsize:]], percentile=90)\n",
    "\n",
    "\n",
    "truth = Y[idx[trainsize:]]\n",
    "correct = 0.\n",
    "for i, val in enumerate(truth):\n",
    "    if err_down[i] <= val <= err_up[i]:\n",
    "        correct += 1\n",
    "print(correct/len(truth))"
   ]
  },
  {
   "cell_type": "code",
   "execution_count": 14,
   "metadata": {},
   "outputs": [
    {
     "data": {
      "text/plain": [
       "'\\nThis is pretty close to what we expected: 90.6% of observations fell into the prediction \\nintervals. Plotting the true values and predictions together with error bars visualizes this\\nnicely.\\n'"
      ]
     },
     "execution_count": 14,
     "metadata": {},
     "output_type": "execute_result"
    }
   ],
   "source": [
    "\"\"\"\n",
    "This is pretty close to what we expected: 90.6% of observations fell into the prediction \n",
    "intervals. Plotting the true values and predictions together with error bars visualizes this\n",
    "nicely.\n",
    "\"\"\""
   ]
  },
  {
   "cell_type": "markdown",
   "metadata": {},
   "source": [
    "# Plot"
   ]
  },
  {
   "cell_type": "code",
   "execution_count": 15,
   "metadata": {},
   "outputs": [],
   "source": [
    "df = pd.DataFrame()\n",
    "df['v'] = truth\n",
    "df['p_d'] = err_down\n",
    "df['p_u'] = err_up\n",
    "df['p'] = err_mean"
   ]
  },
  {
   "cell_type": "code",
   "execution_count": 16,
   "metadata": {},
   "outputs": [
    {
     "data": {
      "text/plain": [
       "Text(0, 0.5, 'Response value')"
      ]
     },
     "execution_count": 16,
     "metadata": {},
     "output_type": "execute_result"
    },
    {
     "data": {
      "image/png": "[encoded data removed]",
      "text/plain": [
       "<Figure size 432x288 with 1 Axes>"
      ]
     },
     "metadata": {
      "needs_background": "light"
     },
     "output_type": "display_data"
    }
   ],
   "source": [
    "a = df.sort_values(['v']).reset_index()\n",
    "plt.scatter(a.index, a.v, color='green')\n",
    "plt.errorbar(a.index, a.p, yerr=[a.p - a.p_d, a.p_u - a.p])\n",
    "plt.xlabel(\"Samlpe No.\")\n",
    "plt.ylabel(\"Response value\")"
   ]
  },
  {
   "cell_type": "code",
   "execution_count": 17,
   "metadata": {},
   "outputs": [
    {
     "data": {
      "text/plain": [
       "'\\nWhat can also be observed on the plot that on average, predictions that are more accurate \\nhave smaller prediction intervals since these are usually “easier” predictions to make.\\n'"
      ]
     },
     "execution_count": 17,
     "metadata": {},
     "output_type": "execute_result"
    }
   ],
   "source": [
    "\"\"\"\n",
    "What can also be observed on the plot that on average, predictions that are more accurate \n",
    "have smaller prediction intervals since these are usually “easier” predictions to make.\n",
    "\"\"\""
   ]
  },
  {
   "cell_type": "markdown",
   "metadata": {},
   "source": [
    "#  A warning"
   ]
  },
  {
   "cell_type": "code",
   "execution_count": 18,
   "metadata": {},
   "outputs": [
    {
     "data": {
      "text/plain": [
       "'\\nAnd again, just as one can and should use cross-validation for estimating the accuracy of the model, one should also\\ncross-validate the intervals to make sure that they give unbiased results on the particular dataset at hand. And just\\nlike one can do probability calibration, interval calbiration can also be done.\\n'"
      ]
     },
     "execution_count": 18,
     "metadata": {},
     "output_type": "execute_result"
    }
   ],
   "source": [
    "\"\"\"\n",
    "And again, just as one can and should use cross-validation for estimating the accuracy of the model, one should also\n",
    "cross-validate the intervals to make sure that they give unbiased results on the particular dataset at hand. And just\n",
    "like one can do probability calibration, interval calbiration can also be done.\n",
    "\"\"\""
   ]
  },
  {
   "cell_type": "markdown",
   "metadata": {},
   "source": [
    "# Batch prediction"
   ]
  },
  {
   "cell_type": "code",
   "execution_count": 19,
   "metadata": {},
   "outputs": [
    {
     "data": {
      "text/plain": [
       "'\\nI modified your code to do batch predictions instead of iterating over each sample:\\n'"
      ]
     },
     "execution_count": 19,
     "metadata": {},
     "output_type": "execute_result"
    }
   ],
   "source": [
    "\"\"\"\n",
    "I modified your code to do batch predictions instead of iterating over each sample:\n",
    "\"\"\""
   ]
  },
  {
   "cell_type": "code",
   "execution_count": 22,
   "metadata": {},
   "outputs": [
    {
     "ename": "SyntaxError",
     "evalue": "invalid character in identifier (<ipython-input-22-1bcb23222fe8>, line 9)",
     "output_type": "error",
     "traceback": [
      "\u001b[0;36m  File \u001b[0;32m\"<ipython-input-22-1bcb23222fe8>\"\u001b[0;36m, line \u001b[0;32m9\u001b[0m\n\u001b[0;31m    err_up = np.percentile(preds, 100 – (100 – percentile) / 2., axis=1, keepdims=True)\u001b[0m\n\u001b[0m                                      ^\u001b[0m\n\u001b[0;31mSyntaxError\u001b[0m\u001b[0;31m:\u001b[0m invalid character in identifier\n"
     ]
    }
   ],
   "source": [
    "def pred_ints(model, X, percentile=95):\n",
    "    err_down = []\n",
    "    err_up = []\n",
    "    preds = []\n",
    "    for pred in model.estimators_:\n",
    "        preds.append(pred.predict(X))\n",
    "        preds = np.vstack(preds).T\n",
    "    err_down = np.percentile(\n",
    "        preds, (100 - percentile) / 2., axis=1, keepdims=True)\n",
    "    err_up = np.percentile(preds, 100 – (100 – percentile) / 2., axis=1, keepdims=True)\n",
    "    return err_down.reshape(-1,), err_up.reshape(-1,)"
   ]
  },
  {
   "cell_type": "code",
   "execution_count": null,
   "metadata": {},
   "outputs": [],
   "source": []
  }
 ],
 "metadata": {
  "hide_input": false,
  "kernelspec": {
   "display_name": "trainingAI",
   "language": "python",
   "name": "trainingai"
  },
  "language_info": {
   "codemirror_mode": {
    "name": "ipython",
    "version": 3
   },
   "file_extension": ".py",
   "mimetype": "text/x-python",
   "name": "python",
   "nbconvert_exporter": "python",
   "pygments_lexer": "ipython3",
   "version": "3.8.5"
  }
 },
 "nbformat": 4,
 "nbformat_minor": 2
}
