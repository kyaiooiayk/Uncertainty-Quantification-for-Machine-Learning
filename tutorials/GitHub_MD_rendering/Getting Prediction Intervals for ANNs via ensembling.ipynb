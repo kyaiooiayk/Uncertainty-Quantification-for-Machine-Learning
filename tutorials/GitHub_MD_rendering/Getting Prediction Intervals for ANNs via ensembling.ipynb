{
 "cells": [
  {
   "cell_type": "markdown",
   "metadata": {},
   "source": [
    "# Introduction\n",
    "<hr style=\"border:2px solid black\"> </hr>"
   ]
  },
  {
   "cell_type": "markdown",
   "metadata": {},
   "source": [
    "\n",
    "**What?** Getting Prediction Intervals for ANNs via ensembling\n",
    "\n",
""   ]
  },
  {
   "cell_type": "markdown",
   "metadata": {},
   "source": [
    "# Import modules\n",
    "<hr style=\"border:2px solid black\"> </hr>"
   ]
  },
  {
   "cell_type": "code",
   "execution_count": 18,
   "metadata": {},
   "outputs": [],
   "source": [
    "import numpy as np\n",
    "from pandas import read_csv\n",
    "from sklearn.model_selection import train_test_split\n",
    "from sklearn.metrics import mean_absolute_error\n",
    "from sklearn.preprocessing import MinMaxScaler\n",
    "from tensorflow.keras.models import Sequential\n",
    "from tensorflow.keras.layers import Dense\n",
    "from tensorflow.keras.optimizers import Adam"
   ]
  },
  {
   "cell_type": "markdown",
   "metadata": {},
   "source": [
    "# Load the dataset\n",
    "<hr style=\"border:2px solid black\"> </hr>"
   ]
  },
  {
   "cell_type": "code",
   "execution_count": 4,
   "metadata": {},
   "outputs": [],
   "source": [
    "path = \"../DATASETS/housing_1.csv\"\n",
    "dataframe = read_csv(path, header=None)\n",
    "values = dataframe.values\n",
    "# split into input and output values\n",
    "X, y = values[:, :-1], values[:,-1]\n",
    "# split into train and test sets\n",
    "X_train, X_test, y_train, y_test = train_test_split(X, y, train_size=0.67, random_state=1)\n",
    "# scale input data\n",
    "scaler = MinMaxScaler()\n",
    "scaler.fit(X_train)\n",
    "X_train = scaler.transform(X_train)\n",
    "X_test = scaler.transform(X_test)\n"
   ]
  },
  {
   "cell_type": "markdown",
   "metadata": {},
   "source": [
    "# Modelling & fitting\n",
    "<hr style=\"border:2px solid black\"> </hr>"
   ]
  },
  {
   "cell_type": "code",
   "execution_count": 10,
   "metadata": {},
   "outputs": [],
   "source": [
    "# Define a function because we'll call it several times\n",
    "def fit_model(X_train, y_train):\n",
    "    # define neural network model\n",
    "    features = X_train.shape[1]\n",
    "    model = Sequential()\n",
    "    model.add(Dense(20, kernel_initializer='he_normal',\n",
    "              activation='relu', input_dim=features))\n",
    "    model.add(Dense(5, kernel_initializer='he_normal', activation='relu'))\n",
    "    model.add(Dense(1))\n",
    "    # compile the model and specify loss and optimizer\n",
    "    opt = Adam(learning_rate=0.01, beta_1=0.85, beta_2=0.999)\n",
    "    model.compile(optimizer=opt, loss='mse')\n",
    "    # fit the model on the training dataset\n",
    "    model.fit(X_train, y_train, verbose=0, epochs=300, batch_size=16)\n",
    "    return model"
   ]
  },
  {
   "cell_type": "markdown",
   "metadata": {},
   "source": [
    "# Getting PIs via ensembling\n",
    "<hr style=\"border:2px solid black\"> </hr>"
   ]
  },
  {
   "cell_type": "markdown",
   "metadata": {},
   "source": [
    "\n",
    "- There are many ways to calculate prediction intervals for ANNs and more importantly, there is no standard way.\n",
    "- In here we'll shwo a very simple but limited approach: essentially **quick and dirty**.\n",
    "- We'll fit anything between 10 to 30 models. The distribution of the point predictions from ensemble members is then used to calculate both a point prediction and a prediction interval.\n",
    "- Once all the predictions are computed, we get the mean and use as a point prediction, then to get the symmetric PI we'll comute the +/- 1.96 standard deviation.\n",
    "- 1.96 represents the 95% percentile.\n",
    "- Because of its symmetric nature it is generally referred to as **Gaussian PI**.\n",
    "\n",
""   ]
  },
  {
   "cell_type": "code",
   "execution_count": 11,
   "metadata": {},
   "outputs": [],
   "source": [
    "# fit an ensemble of models\n",
    "def fit_ensemble(n_members, X_train, X_test, y_train, y_test):\n",
    "    ensemble = list()\n",
    "    for i in range(n_members):\n",
    "        # define and fit the model on the training set\n",
    "        model = fit_model(X_train, y_train)\n",
    "        # evaluate model on the test set\n",
    "        yhat = model.predict(X_test, verbose=0)\n",
    "        mae = mean_absolute_error(y_test, yhat)\n",
    "        print('>%d, MAE: %.3f' % (i+1, mae))\n",
    "        # store the model\n",
    "        ensemble.append(model)\n",
    "    return ensemble"
   ]
  },
  {
   "cell_type": "code",
   "execution_count": 20,
   "metadata": {},
   "outputs": [],
   "source": [
    "# make predictions with the ensemble and calculate a prediction interval\n",
    "def predict_with_pi(ensemble, X):\n",
    "    # make predictions\n",
    "    yhat = [model.predict(X, verbose=0) for model in ensemble]\n",
    "    yhat = np.asarray(yhat)\n",
    "    # calculate 95% gaussian prediction interval\n",
    "    interval = 1.96 * yhat.std()\n",
    "    lower, upper = yhat.mean() - interval, yhat.mean() + interval\n",
    "    return lower, yhat.mean(), upper"
   ]
  },
  {
   "cell_type": "markdown",
   "metadata": {},
   "source": [
    "# Run the method\n",
    "<hr style=\"border:2px solid black\"> </hr>"
   ]
  },
  {
   "cell_type": "code",
   "execution_count": 22,
   "metadata": {},
   "outputs": [
    {
     "name": "stdout",
     "output_type": "stream",
     "text": [
      ">1, MAE: 2.616\n",
      ">2, MAE: 2.304\n",
      ">3, MAE: 2.532\n",
      ">4, MAE: 2.494\n",
      ">5, MAE: 2.478\n",
      ">6, MAE: 2.362\n",
      ">7, MAE: 2.520\n",
      ">8, MAE: 2.336\n",
      ">9, MAE: 2.397\n",
      ">10, MAE: 2.908\n",
      ">11, MAE: 2.741\n",
      ">12, MAE: 2.679\n",
      ">13, MAE: 2.480\n",
      ">14, MAE: 2.133\n",
      ">15, MAE: 2.216\n",
      ">16, MAE: 6.622\n",
      ">17, MAE: 2.530\n",
      ">18, MAE: 2.497\n",
      ">19, MAE: 2.582\n",
      ">20, MAE: 2.537\n",
      ">21, MAE: 2.308\n",
      ">22, MAE: 2.756\n",
      ">23, MAE: 2.303\n",
      ">24, MAE: 2.469\n",
      ">25, MAE: 2.721\n",
      ">26, MAE: 2.276\n",
      ">27, MAE: 2.186\n",
      ">28, MAE: 2.304\n",
      ">29, MAE: 2.586\n",
      ">30, MAE: 2.295\n",
      "Point prediction: 29.799\n",
      "95% prediction interval: [25.604, 33.994]\n",
      "True value: 28.200\n"
     ]
    }
   ],
   "source": [
    "# fit ensemble\n",
    "n_members = 30\n",
    "ensemble = fit_ensemble(n_members, X_train, X_test, y_train, y_test)\n",
    "# make predictions with prediction interval\n",
    "newX = np.asarray([X_test[0, :]])\n",
    "lower, mean, upper = predict_with_pi(ensemble, newX)\n",
    "print('Point prediction: %.3f' % mean)\n",
    "print('95%% prediction interval: [%.3f, %.3f]' % (lower, upper))\n",
    "print('True value: %.3f' % y_test[0])"
   ]
  },
  {
   "cell_type": "markdown",
   "metadata": {},
   "source": [
    "# References\n",
    "<hr style=\"border:2px solid black\"> </hr>"
   ]
  },
  {
   "cell_type": "markdown",
   "metadata": {},
   "source": [
    "\n",
    "- https://machinelearningmastery.com/prediction-intervals-for-deep-learning-neural-networks/\n",
    "- [High-Quality Prediction Intervals for Deep Learning: A Distribution-Free, Ensembled Approach](https://arxiv.org/abs/1802.07167)\n",
    "- [Practical Confidence and Prediction Intervals](https://papers.nips.cc/paper/1996/hash/7940ab47468396569a906f75ff3f20ef-Abstract.html)\n",
    "\n",
""   ]
  },
  {
   "cell_type": "code",
   "execution_count": null,
   "metadata": {},
   "outputs": [],
   "source": []
  }
 ],
 "metadata": {
  "hide_input": false,
  "kernelspec": {
   "display_name": "trainingAI",
   "language": "python",
   "name": "trainingai"
  },
  "language_info": {
   "codemirror_mode": {
    "name": "ipython",
    "version": 3
   },
   "file_extension": ".py",
   "mimetype": "text/x-python",
   "name": "python",
   "nbconvert_exporter": "python",
   "pygments_lexer": "ipython3",
   "version": "3.8.5"
  }
 },
 "nbformat": 4,
 "nbformat_minor": 2
}
