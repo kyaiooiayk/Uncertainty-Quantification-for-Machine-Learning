{
 "cells": [
  {
   "cell_type": "markdown",
   "metadata": {},
   "source": [
    "# Introduction"
   ]
  },
  {
   "cell_type": "markdown",
   "metadata": {},
   "source": [
    "\n",
    "**What?** Quantile regression with application in pyTorch_2\n",
    "\n",
""   ]
  },
  {
   "cell_type": "markdown",
   "metadata": {},
   "source": [
    "# Import modules"
   ]
  },
  {
   "cell_type": "code",
   "execution_count": 1,
   "metadata": {},
   "outputs": [],
   "source": [
    "from functools import partial\n",
    "from itertools import chain\n",
    "import pandas as pd\n",
    "import numpy as np\n",
    "import matplotlib.pyplot as plt\n",
    "import torch\n",
    "import torch.nn as nn\n",
    "import matplotlib.pyplot as plt\n",
    "from matplotlib import rcParams\n",
    "rcParams['figure.figsize'] = 17, 8\n",
    "rcParams['font.size'] = 20\n",
    "np.random.seed(1)"
   ]
  },
  {
   "cell_type": "markdown",
   "metadata": {},
   "source": [
    "# Create dataset"
   ]
  },
  {
   "cell_type": "code",
   "execution_count": 2,
   "metadata": {},
   "outputs": [
    {
     "data": {
      "text/plain": [
       "((100, 1), (100,), (1000, 1))"
      ]
     },
     "execution_count": 2,
     "metadata": {},
     "output_type": "execute_result"
    }
   ],
   "source": [
    "def f(x):\n",
    "    \"\"\"The function to predict.\"\"\"\n",
    "    return x * np.sin(x)\n",
    "\n",
    "#----------------------------------------------------------------------\n",
    "#  First the noiseless case\n",
    "X = np.atleast_2d(np.random.uniform(0, 10.0, size=100)).T\n",
    "X = X.astype(np.float32)\n",
    "\n",
    "# Observations\n",
    "y = f(X).ravel()\n",
    "\n",
    "dy = 1.5 + 1.0 * np.random.random(y.shape)\n",
    "noise = np.random.normal(0, dy)\n",
    "y += noise\n",
    "y = y.astype(np.float32)\n",
    "\n",
    "# Mesh the input space for evaluations of the real function, the prediction and\n",
    "# its MSE\n",
    "xx = np.atleast_2d(np.linspace(0, 10, 1000)).T\n",
    "xx = xx.astype(np.float32)\n",
    "\n",
    "X.shape, y.shape, xx.shape"
   ]
  },
  {
   "cell_type": "code",
   "execution_count": 3,
   "metadata": {
    "scrolled": true
   },
   "outputs": [
    {
     "data": {
      "text/plain": [
       "array([[4.1702199e+00],\n",
       "       [7.2032452e+00],\n",
       "       [1.1437482e-03],\n",
       "       [3.0233257e+00],\n",
       "       [1.4675589e+00],\n",
       "       [9.2338592e-01],\n",
       "       [1.8626021e+00],\n",
       "       [3.4556072e+00],\n",
       "       [3.9676747e+00],\n",
       "       [5.3881674e+00],\n",
       "       [4.1919451e+00],\n",
       "       [6.8521948e+00],\n",
       "       [2.0445225e+00],\n",
       "       [8.7811747e+00],\n",
       "       [2.7387592e-01],\n",
       "       [6.7046752e+00],\n",
       "       [4.1730480e+00],\n",
       "       [5.5868983e+00],\n",
       "       [1.4038694e+00],\n",
       "       [1.9810148e+00],\n",
       "       [8.0074453e+00],\n",
       "       [9.6826162e+00],\n",
       "       [3.1342418e+00],\n",
       "       [6.9232264e+00],\n",
       "       [8.7638912e+00],\n",
       "       [8.9460669e+00],\n",
       "       [8.5044211e-01],\n",
       "       [3.9054784e-01],\n",
       "       [1.6983042e+00],\n",
       "       [8.7814255e+00],\n",
       "       [9.8346835e-01],\n",
       "       [4.2110763e+00],\n",
       "       [9.5788956e+00],\n",
       "       [5.3316526e+00],\n",
       "       [6.9187713e+00],\n",
       "       [3.1551564e+00],\n",
       "       [6.8650093e+00],\n",
       "       [8.3462563e+00],\n",
       "       [1.8288277e-01],\n",
       "       [7.5014434e+00],\n",
       "       [9.8886108e+00],\n",
       "       [7.4816566e+00],\n",
       "       [2.8044400e+00],\n",
       "       [7.8927932e+00],\n",
       "       [1.0322601e+00],\n",
       "       [4.4789352e+00],\n",
       "       [9.0859547e+00],\n",
       "       [2.9361415e+00],\n",
       "       [2.8777535e+00],\n",
       "       [1.3002857e+00],\n",
       "       [1.9366957e-01],\n",
       "       [6.7883554e+00],\n",
       "       [2.1162813e+00],\n",
       "       [2.6554666e+00],\n",
       "       [4.9157314e+00],\n",
       "       [5.3362542e-01],\n",
       "       [5.7411761e+00],\n",
       "       [1.4672858e+00],\n",
       "       [5.8930554e+00],\n",
       "       [6.9975834e+00],\n",
       "       [1.0233443e+00],\n",
       "       [4.1405597e+00],\n",
       "       [6.9440017e+00],\n",
       "       [4.1417928e+00],\n",
       "       [4.9953458e-01],\n",
       "       [5.3589640e+00],\n",
       "       [6.6379466e+00],\n",
       "       [5.1488910e+00],\n",
       "       [9.4459476e+00],\n",
       "       [5.8655505e+00],\n",
       "       [9.0340195e+00],\n",
       "       [1.3747470e+00],\n",
       "       [1.3927635e+00],\n",
       "       [8.0739126e+00],\n",
       "       [3.9767683e+00],\n",
       "       [1.6535419e+00],\n",
       "       [9.2750854e+00],\n",
       "       [3.4776585e+00],\n",
       "       [7.5081210e+00],\n",
       "       [7.2599797e+00],\n",
       "       [8.8330612e+00],\n",
       "       [6.2367220e+00],\n",
       "       [7.5094242e+00],\n",
       "       [3.4889834e+00],\n",
       "       [2.6992788e+00],\n",
       "       [8.9588623e+00],\n",
       "       [4.2809119e+00],\n",
       "       [9.6484003e+00],\n",
       "       [6.6344151e+00],\n",
       "       [6.2169571e+00],\n",
       "       [1.1474597e+00],\n",
       "       [9.4948921e+00],\n",
       "       [4.4991212e+00],\n",
       "       [5.7838960e+00],\n",
       "       [4.0813680e+00],\n",
       "       [2.3702698e+00],\n",
       "       [9.0337954e+00],\n",
       "       [5.7367949e+00],\n",
       "       [2.8703270e-02],\n",
       "       [6.1714492e+00]], dtype=float32)"
      ]
     },
     "execution_count": 3,
     "metadata": {},
     "output_type": "execute_result"
    }
   ],
   "source": [
    "X"
   ]
  },
  {
   "cell_type": "markdown",
   "metadata": {},
   "source": [
    "# Build the model"
   ]
  },
  {
   "cell_type": "code",
   "execution_count": 4,
   "metadata": {},
   "outputs": [],
   "source": [
    "class q_model(nn.Module):\n",
    "    def __init__(self, \n",
    "                 quantiles, \n",
    "                 in_shape=1,  \n",
    "                 dropout=0.5):     \n",
    "        super().__init__()\n",
    "        self.quantiles = quantiles\n",
    "        self.num_quantiles = len(quantiles)\n",
    "        \n",
    "        self.in_shape = in_shape\n",
    "        self.out_shape = len(quantiles)\n",
    "        self.dropout = dropout\n",
    "        self.build_model()\n",
    "        self.init_weights()\n",
    "        \n",
    "    def build_model(self): \n",
    "        self.base_model = nn.Sequential(\n",
    "            nn.Linear(self.in_shape, 64),\n",
    "            nn.ReLU(),\n",
    "            # nn.BatchNorm1d(64),\n",
    "            nn.Dropout(self.dropout),\n",
    "            nn.Linear(64, 64),\n",
    "            nn.ReLU(),\n",
    "            # nn.BatchNorm1d(64),\n",
    "            nn.Dropout(self.dropout),\n",
    "        )\n",
    "        final_layers = [\n",
    "            nn.Linear(64, 1) for _ in range(len(self.quantiles))\n",
    "        ]\n",
    "        self.final_layers = nn.ModuleList(final_layers)\n",
    "        \n",
    "    def init_weights(self):\n",
    "        for m in chain(self.base_model, self.final_layers):\n",
    "            if isinstance(m, nn.Linear):\n",
    "                nn.init.orthogonal_(m.weight)\n",
    "                nn.init.constant_(m.bias, 0)        \n",
    "        \n",
    "    def forward(self, x):\n",
    "        tmp_ = self.base_model(x)\n",
    "        return torch.cat([layer(tmp_) for layer in self.final_layers], dim=1)"
   ]
  },
  {
   "cell_type": "code",
   "execution_count": 5,
   "metadata": {},
   "outputs": [],
   "source": [
    "class q_model_simplified(nn.Module):\n",
    "    def __init__(self, \n",
    "                 quantiles, \n",
    "                 in_shape=1,  \n",
    "                 dropout=0.5):     \n",
    "        super().__init__()\n",
    "        self.quantiles = quantiles\n",
    "        self.num_quantiles = len(quantiles)\n",
    "        \n",
    "        self.in_shape = in_shape\n",
    "        self.out_shape = len(quantiles)\n",
    "        self.dropout = dropout\n",
    "        self.build_model()\n",
    "        self.init_weights()\n",
    "        \n",
    "    def build_model(self): \n",
    "        self.model = nn.Sequential(\n",
    "            nn.Linear(self.in_shape, 64),\n",
    "            nn.ReLU(),\n",
    "            # nn.BatchNorm1d(64),\n",
    "            nn.Dropout(self.dropout),\n",
    "            nn.Linear(64, 128),\n",
    "            nn.ReLU(),\n",
    "            # nn.BatchNorm1d(128),\n",
    "            nn.Dropout(self.dropout),\n",
    "            nn.Linear(128, self.out_shape)\n",
    "        )\n",
    "        \n",
    "    def init_weights(self):\n",
    "        for m in self.model:\n",
    "            if isinstance(m, nn.Linear):\n",
    "                nn.init.orthogonal_(m.weight)\n",
    "                nn.init.constant_(m.bias, 0)        \n",
    "        \n",
    "    def forward(self, x):\n",
    "        return self.model(x)"
   ]
  },
  {
   "cell_type": "code",
   "execution_count": 6,
   "metadata": {},
   "outputs": [],
   "source": [
    "class QuantileLoss(nn.Module):\n",
    "    def __init__(self, quantiles):\n",
    "        super().__init__()\n",
    "        self.quantiles = quantiles\n",
    "        \n",
    "    def forward(self, preds, target):\n",
    "        assert not target.requires_grad\n",
    "        assert preds.size(0) == target.size(0)\n",
    "        losses = []\n",
    "        for i, q in enumerate(quantiles):\n",
    "            errors = target - preds[:, i]\n",
    "            losses.append(torch.max((q-1) * errors, q * errors).unsqueeze(1))\n",
    "        loss = torch.mean(torch.sum(torch.cat(losses, dim=1), dim=1))\n",
    "        return loss"
   ]
  },
  {
   "cell_type": "code",
   "execution_count": 7,
   "metadata": {},
   "outputs": [],
   "source": [
    "class Learner:\n",
    "    def __init__(self, model, optimizer_class, loss_func, device='cpu'):\n",
    "        self.model = model.to(device)\n",
    "        self.optimizer = optimizer_class(self.model.parameters())\n",
    "        self.loss_func = loss_func.to(device)\n",
    "        self.device = device\n",
    "        self.loss_history = []\n",
    "\n",
    "    def fit(self, x, y, epochs, batch_size):\n",
    "        self.model.train()\n",
    "        for e in range(epochs):\n",
    "            shuffle_idx = np.arange(x.shape[0])\n",
    "            np.random.shuffle(shuffle_idx)\n",
    "            x = x[shuffle_idx]\n",
    "            y = y[shuffle_idx]\n",
    "            epoch_losses = []\n",
    "            for idx in range(0, x.shape[0], batch_size):\n",
    "                self.optimizer.zero_grad()\n",
    "                batch_x = torch.from_numpy(\n",
    "                    x[idx: min(idx + batch_size, x.shape[0]), :]\n",
    "                ).float().to(self.device).requires_grad_(False)\n",
    "                batch_y = torch.from_numpy(\n",
    "                    y[idx: min(idx + batch_size, y.shape[0])]\n",
    "                ).float().to(self.device).requires_grad_(False)\n",
    "                preds = self.model(batch_x)\n",
    "                loss = loss_func(preds, batch_y)\n",
    "                loss.backward()\n",
    "                self.optimizer.step()\n",
    "                epoch_losses.append(loss.cpu().detach().numpy())\n",
    "            epoch_loss = np.mean(epoch_losses)\n",
    "            self.loss_history.append(epoch_loss)\n",
    "            if (e+1) % 500 == 0:\n",
    "                print(\"Epoch {}: {}\".format(e+1, epoch_loss))\n",
    "\n",
    "    def predict(self, x, mc=False):\n",
    "        if mc:\n",
    "            self.model.train()\n",
    "        else:\n",
    "            self.model.eval()\n",
    "        return self.model(torch.from_numpy(x).to(self.device).requires_grad_(False)).cpu().detach().numpy()"
   ]
  },
  {
   "cell_type": "code",
   "execution_count": 11,
   "metadata": {},
   "outputs": [],
   "source": [
    "# Instantiate model\n",
    "quantiles = [.05, .5, .95]\n",
    "model = q_model(quantiles, dropout=0.1)\n",
    "loss_func = QuantileLoss(quantiles)\n",
    "#learner = Learner(model, partial(torch.optim.Adam, weight_decay=1e-6), loss_func, device=\"cuda:0\")\n",
    "learner = Learner(model, partial(torch.optim.Adam, weight_decay=1e-6), loss_func)"
   ]
  },
  {
   "cell_type": "code",
   "execution_count": 4,
   "metadata": {},
   "outputs": [
    {
     "data": {
      "text/plain": [
       "(100, 1)"
      ]
     },
     "execution_count": 4,
     "metadata": {},
     "output_type": "execute_result"
    }
   ],
   "source": [
    "X.shape"
   ]
  },
  {
   "cell_type": "code",
   "execution_count": 5,
   "metadata": {},
   "outputs": [
    {
     "data": {
      "text/plain": [
       "(100,)"
      ]
     },
     "execution_count": 5,
     "metadata": {},
     "output_type": "execute_result"
    }
   ],
   "source": [
    "y.shape"
   ]
  },
  {
   "cell_type": "markdown",
   "metadata": {},
   "source": [
    "# Train the model"
   ]
  },
  {
   "cell_type": "code",
   "execution_count": 12,
   "metadata": {},
   "outputs": [
    {
     "name": "stdout",
     "output_type": "stream",
     "text": [
      "Epoch 500: 1.7810837030410767\n",
      "Epoch 1000: 1.8190921545028687\n",
      "Epoch 1500: 1.3551735877990723\n",
      "Epoch 2000: 1.2596757411956787\n",
      "Epoch 2500: 1.1695501804351807\n",
      "Epoch 3000: 1.16835618019104\n",
      "Epoch 3500: 1.3152366876602173\n",
      "Epoch 4000: 1.2230517864227295\n",
      "Epoch 4500: 1.18644118309021\n",
      "Epoch 5000: 1.2071648836135864\n",
      "Epoch 5500: 1.1537468433380127\n",
      "Epoch 6000: 1.1731938123703003\n",
      "Epoch 6500: 1.161199688911438\n",
      "Epoch 7000: 1.1255054473876953\n",
      "Epoch 7500: 1.0704289674758911\n",
      "Epoch 8000: 1.1079325675964355\n",
      "Epoch 8500: 1.1409704685211182\n",
      "Epoch 9000: 1.0798407793045044\n",
      "Epoch 9500: 1.111851692199707\n",
      "Epoch 10000: 1.122779130935669\n"
     ]
    }
   ],
   "source": [
    "# Run training\n",
    "epochs = 10000\n",
    "learner.fit(X, y, epochs, batch_size=10)"
   ]
  },
  {
   "cell_type": "code",
   "execution_count": 16,
   "metadata": {},
   "outputs": [],
   "source": [
    "# Make the prediction on the meshed x-axis\n",
    "tmp = learner.predict(xx)\n",
    "y_lower, y_pred, y_upper = tmp[:, 0], tmp[:, 1], tmp[:, 2]"
   ]
  },
  {
   "cell_type": "code",
   "execution_count": 17,
   "metadata": {},
   "outputs": [
    {
     "data": {
      "image/png": "[encoded data removed]",
      "text/plain": [
       "<Figure size 1224x576 with 1 Axes>"
      ]
     },
     "metadata": {
      "needs_background": "light"
     },
     "output_type": "display_data"
    }
   ],
   "source": [
    "# Plot the function, the prediction and the 90% confidence interval based on\n",
    "# the MSE\n",
    "fig = plt.figure()\n",
    "plt.plot(xx, f(xx), 'g:', label=u'$f(x) = x\\,\\sin(x)$')\n",
    "plt.plot(X, y, 'b.', markersize=10, label=u'Observations')\n",
    "plt.plot(xx, y_pred, 'r-', label=u'Prediction')\n",
    "plt.plot(xx, y_upper, 'k-')\n",
    "plt.plot(xx, y_lower, 'k-')\n",
    "plt.fill(np.concatenate([xx, xx[::-1]]),\n",
    "         np.concatenate([y_upper, y_lower[::-1]]),\n",
    "         alpha=.5, fc='b', ec='None', label='90% prediction interval')\n",
    "plt.xlabel('$x$')\n",
    "plt.ylabel('$f(x)$')\n",
    "plt.ylim(-10, 20)\n",
    "plt.legend(loc='upper left')\n",
    "plt.show()"
   ]
  },
  {
   "cell_type": "markdown",
   "metadata": {},
   "source": [
    "# References\n",
    "<hr style=\"border:2px solid black\"> </hr>"
   ]
  },
  {
   "cell_type": "markdown",
   "metadata": {},
   "source": [
    "\n",
    "- - https://github.com/ceshine/quantile-regression-tensorflow/blob/master/notebooks/03-sklearn-example-pytorch.ipynb<br>\n",
    "\n",
""   ]
  },
  {
   "cell_type": "code",
   "execution_count": null,
   "metadata": {},
   "outputs": [],
   "source": []
  }
 ],
 "metadata": {
  "hide_input": false,
  "kernelspec": {
   "display_name": "trainingAI",
   "language": "python",
   "name": "trainingai"
  },
  "language_info": {
   "codemirror_mode": {
    "name": "ipython",
    "version": 3
   },
   "file_extension": ".py",
   "mimetype": "text/x-python",
   "name": "python",
   "nbconvert_exporter": "python",
   "pygments_lexer": "ipython3",
   "version": "3.8.5"
  }
 },
 "nbformat": 4,
 "nbformat_minor": 4
}
