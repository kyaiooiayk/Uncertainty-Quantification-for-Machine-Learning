{
 "cells": [
  {
   "cell_type": "markdown",
   "metadata": {
    "toc": true
   },
   "source": [
    "<h1>Table of Contents<span class=\"tocSkip\"></span></h1>\n",
""   ]
  },
  {
   "cell_type": "markdown",
   "metadata": {},
   "source": [
    "# Introduction\n",
    "<hr style=\"border:2px solid black\"> </hr>"
   ]
  },
  {
   "cell_type": "markdown",
   "metadata": {},
   "source": [
    "\n",
    "**What?** Multi-quantile loss with CatBoost\n",
    "\n",
""   ]
  },
  {
   "cell_type": "markdown",
   "metadata": {},
   "source": [
    "# Imports\n",
    "<hr style=\"border:2px solid black\"> </hr>"
   ]
  },
  {
   "cell_type": "code",
   "execution_count": 1,
   "metadata": {
    "ExecuteTime": {
     "end_time": "2023-02-25T08:56:34.688256Z",
     "start_time": "2023-02-25T08:56:32.147204Z"
    }
   },
   "outputs": [],
   "source": [
    "import numpy as np\n",
    "import pandas as pd\n",
    "import matplotlib.pyplot as plt\n",
    "import seaborn as sns\n",
    "from catboost import CatBoostRegressor\n",
    "sns.set()"
   ]
  },
  {
   "cell_type": "code",
   "execution_count": 2,
   "metadata": {
    "ExecuteTime": {
     "end_time": "2023-02-25T08:56:34.725914Z",
     "start_time": "2023-02-25T08:56:34.721363Z"
    }
   },
   "outputs": [
    {
     "data": {
      "text/plain": [
       "'1.1.1'"
      ]
     },
     "execution_count": 2,
     "metadata": {},
     "output_type": "execute_result"
    }
   ],
   "source": [
    "import catboost\n",
    "catboost.__version__"
   ]
  },
  {
   "cell_type": "markdown",
   "metadata": {},
   "source": [
    "# Classification vs. regression\n",
    "<hr style=\"border:2px solid black\"> </hr>"
   ]
  },
  {
   "cell_type": "markdown",
   "metadata": {},
   "source": [
    "\n",
    "- While many classification models, particularly calibrated models, come with uncertainty quantification by predicting a probability distribution over target classes, quantifying uncertainty in regression tasks is much more nuanced.\n",
    "\n",
""   ]
  },
  {
   "cell_type": "markdown",
   "metadata": {},
   "source": [
    "# Multi-quantile loss function \n",
    "<hr style=\"border:2px solid black\"> </hr>"
   ]
  },
  {
   "cell_type": "markdown",
   "metadata": {},
   "source": [
    "\n",
    "- **Classical quantile regression**: the main disadvantage of quantile regression was that one model had to be trained per predicted quantile. For instance, in order to predict the 10th, 50th, and 90th quantiles of a target distribution, three independent models would need to be trained. \n",
    "- Catboost has since addressed this issue with the **multi-quantile loss function** — a loss function that enables a single model to predict an arbitrary number of quantiles. Catboost now extends this idea by allowing the base decision trees to output multiple quantiles per node. This allows a single model to predict multiple quantiles by minimizing a new single loss function.\n",
    "    \n",
""   ]
  },
  {
   "cell_type": "markdown",
   "metadata": {},
   "source": [
    "# Simple Linear Regression\n",
    "<hr style=\"border:2px solid black\"> </hr>"
   ]
  },
  {
   "cell_type": "code",
   "execution_count": 3,
   "metadata": {
    "ExecuteTime": {
     "end_time": "2023-02-25T08:56:36.721574Z",
     "start_time": "2023-02-25T08:56:36.717430Z"
    }
   },
   "outputs": [],
   "source": [
    "\n",
    "# Number of training and testing examples\n",
    "n = 1000\n",
    "\n",
    "# Generate random x values between 0 and 1\n",
    "x_train = np.random.rand(n)\n",
    "x_test = np.random.rand(n)\n",
    "\n",
    "# Generate random noise for the target\n",
    "noise_train = np.random.normal(0, 0.3, n)\n",
    "noise_test = np.random.normal(0, 0.3, n)\n",
    "\n",
    "# Set the slope and y-intercept of the line\n",
    "a, b = 2, 3\n",
    "\n",
    "# Generate y values according to the equation y = ax + b + noise\n",
    "y_train = a * x_train + b + noise_train\n",
    "y_test = a * x_test + b + noise_test"
   ]
  },
  {
   "cell_type": "code",
   "execution_count": 6,
   "metadata": {
    "ExecuteTime": {
     "end_time": "2023-02-25T08:56:55.419696Z",
     "start_time": "2023-02-25T08:56:53.516807Z"
    },
    "scrolled": true
   },
   "outputs": [
    {
     "name": "stdout",
     "output_type": "stream",
     "text": [
      "0:\tlearn: 0.1810842\ttotal: 13.5ms\tremaining: 1.33s\n",
      "1:\tlearn: 0.1770253\ttotal: 34.4ms\tremaining: 1.69s\n",
      "2:\tlearn: 0.1730431\ttotal: 54.5ms\tremaining: 1.76s\n",
      "3:\tlearn: 0.1691594\ttotal: 73.7ms\tremaining: 1.77s\n",
      "4:\tlearn: 0.1654504\ttotal: 91.7ms\tremaining: 1.74s\n",
      "5:\tlearn: 0.1619833\ttotal: 110ms\tremaining: 1.73s\n",
      "6:\tlearn: 0.1585813\ttotal: 129ms\tremaining: 1.71s\n",
      "7:\tlearn: 0.1552861\ttotal: 147ms\tremaining: 1.69s\n",
      "8:\tlearn: 0.1520850\ttotal: 165ms\tremaining: 1.67s\n",
      "9:\tlearn: 0.1490419\ttotal: 184ms\tremaining: 1.65s\n",
      "10:\tlearn: 0.1461082\ttotal: 202ms\tremaining: 1.64s\n",
      "11:\tlearn: 0.1433382\ttotal: 221ms\tremaining: 1.62s\n",
      "12:\tlearn: 0.1406828\ttotal: 240ms\tremaining: 1.61s\n",
      "13:\tlearn: 0.1380750\ttotal: 261ms\tremaining: 1.6s\n",
      "14:\tlearn: 0.1355394\ttotal: 280ms\tremaining: 1.59s\n",
      "15:\tlearn: 0.1331916\ttotal: 299ms\tremaining: 1.57s\n",
      "16:\tlearn: 0.1309219\ttotal: 318ms\tremaining: 1.55s\n",
      "17:\tlearn: 0.1287286\ttotal: 336ms\tremaining: 1.53s\n",
      "18:\tlearn: 0.1266635\ttotal: 354ms\tremaining: 1.51s\n",
      "19:\tlearn: 0.1245858\ttotal: 373ms\tremaining: 1.49s\n",
      "20:\tlearn: 0.1226092\ttotal: 389ms\tremaining: 1.46s\n",
      "21:\tlearn: 0.1207975\ttotal: 405ms\tremaining: 1.44s\n",
      "22:\tlearn: 0.1190474\ttotal: 422ms\tremaining: 1.41s\n",
      "23:\tlearn: 0.1173456\ttotal: 440ms\tremaining: 1.39s\n",
      "24:\tlearn: 0.1157016\ttotal: 460ms\tremaining: 1.38s\n",
      "25:\tlearn: 0.1141381\ttotal: 480ms\tremaining: 1.37s\n",
      "26:\tlearn: 0.1126507\ttotal: 500ms\tremaining: 1.35s\n",
      "27:\tlearn: 0.1112561\ttotal: 520ms\tremaining: 1.33s\n",
      "28:\tlearn: 0.1099155\ttotal: 539ms\tremaining: 1.32s\n",
      "29:\tlearn: 0.1085956\ttotal: 557ms\tremaining: 1.3s\n",
      "30:\tlearn: 0.1073293\ttotal: 576ms\tremaining: 1.28s\n",
      "31:\tlearn: 0.1061396\ttotal: 594ms\tremaining: 1.26s\n",
      "32:\tlearn: 0.1049950\ttotal: 613ms\tremaining: 1.24s\n",
      "33:\tlearn: 0.1039252\ttotal: 631ms\tremaining: 1.23s\n",
      "34:\tlearn: 0.1029132\ttotal: 650ms\tremaining: 1.21s\n",
      "35:\tlearn: 0.1019052\ttotal: 670ms\tremaining: 1.19s\n",
      "36:\tlearn: 0.1009443\ttotal: 688ms\tremaining: 1.17s\n",
      "37:\tlearn: 0.1000430\ttotal: 707ms\tremaining: 1.15s\n",
      "38:\tlearn: 0.0991436\ttotal: 725ms\tremaining: 1.13s\n",
      "39:\tlearn: 0.0982985\ttotal: 744ms\tremaining: 1.11s\n",
      "40:\tlearn: 0.0975335\ttotal: 762ms\tremaining: 1.1s\n",
      "41:\tlearn: 0.0968035\ttotal: 781ms\tremaining: 1.08s\n",
      "42:\tlearn: 0.0960803\ttotal: 799ms\tremaining: 1.06s\n",
      "43:\tlearn: 0.0954067\ttotal: 818ms\tremaining: 1.04s\n",
      "44:\tlearn: 0.0947595\ttotal: 837ms\tremaining: 1.02s\n",
      "45:\tlearn: 0.0941266\ttotal: 856ms\tremaining: 1s\n",
      "46:\tlearn: 0.0935386\ttotal: 875ms\tremaining: 986ms\n",
      "47:\tlearn: 0.0929805\ttotal: 893ms\tremaining: 968ms\n",
      "48:\tlearn: 0.0924273\ttotal: 913ms\tremaining: 950ms\n",
      "49:\tlearn: 0.0919655\ttotal: 921ms\tremaining: 921ms\n",
      "50:\tlearn: 0.0914834\ttotal: 940ms\tremaining: 904ms\n",
      "51:\tlearn: 0.0910218\ttotal: 959ms\tremaining: 886ms\n",
      "52:\tlearn: 0.0905689\ttotal: 978ms\tremaining: 867ms\n",
      "53:\tlearn: 0.0901586\ttotal: 996ms\tremaining: 849ms\n",
      "54:\tlearn: 0.0897723\ttotal: 1.01s\tremaining: 824ms\n",
      "55:\tlearn: 0.0893901\ttotal: 1.02s\tremaining: 806ms\n",
      "56:\tlearn: 0.0890313\ttotal: 1.04s\tremaining: 787ms\n",
      "57:\tlearn: 0.0886736\ttotal: 1.06s\tremaining: 769ms\n",
      "58:\tlearn: 0.0883668\ttotal: 1.08s\tremaining: 751ms\n",
      "59:\tlearn: 0.0880730\ttotal: 1.1s\tremaining: 732ms\n",
      "60:\tlearn: 0.0877815\ttotal: 1.11s\tremaining: 713ms\n",
      "61:\tlearn: 0.0875155\ttotal: 1.13s\tremaining: 694ms\n",
      "62:\tlearn: 0.0872526\ttotal: 1.15s\tremaining: 676ms\n",
      "63:\tlearn: 0.0870021\ttotal: 1.17s\tremaining: 658ms\n",
      "64:\tlearn: 0.0867643\ttotal: 1.19s\tremaining: 640ms\n",
      "65:\tlearn: 0.0865345\ttotal: 1.21s\tremaining: 622ms\n",
      "66:\tlearn: 0.0863233\ttotal: 1.23s\tremaining: 604ms\n",
      "67:\tlearn: 0.0861237\ttotal: 1.24s\tremaining: 586ms\n",
      "68:\tlearn: 0.0859269\ttotal: 1.26s\tremaining: 568ms\n",
      "69:\tlearn: 0.0857575\ttotal: 1.28s\tremaining: 550ms\n",
      "70:\tlearn: 0.0855763\ttotal: 1.3s\tremaining: 532ms\n",
      "71:\tlearn: 0.0854167\ttotal: 1.31s\tremaining: 511ms\n",
      "72:\tlearn: 0.0852640\ttotal: 1.33s\tremaining: 493ms\n",
      "73:\tlearn: 0.0851012\ttotal: 1.35s\tremaining: 475ms\n",
      "74:\tlearn: 0.0849493\ttotal: 1.37s\tremaining: 458ms\n",
      "75:\tlearn: 0.0848051\ttotal: 1.39s\tremaining: 440ms\n",
      "76:\tlearn: 0.0846552\ttotal: 1.41s\tremaining: 421ms\n",
      "77:\tlearn: 0.0845220\ttotal: 1.43s\tremaining: 403ms\n",
      "78:\tlearn: 0.0844030\ttotal: 1.45s\tremaining: 385ms\n",
      "79:\tlearn: 0.0842935\ttotal: 1.47s\tremaining: 367ms\n",
      "80:\tlearn: 0.0841897\ttotal: 1.49s\tremaining: 349ms\n",
      "81:\tlearn: 0.0840827\ttotal: 1.51s\tremaining: 331ms\n",
      "82:\tlearn: 0.0839845\ttotal: 1.53s\tremaining: 313ms\n",
      "83:\tlearn: 0.0838936\ttotal: 1.55s\tremaining: 295ms\n",
      "84:\tlearn: 0.0838081\ttotal: 1.57s\tremaining: 276ms\n",
      "85:\tlearn: 0.0837311\ttotal: 1.58s\tremaining: 258ms\n",
      "86:\tlearn: 0.0836551\ttotal: 1.6s\tremaining: 240ms\n",
      "87:\tlearn: 0.0835764\ttotal: 1.62s\tremaining: 221ms\n",
      "88:\tlearn: 0.0834963\ttotal: 1.64s\tremaining: 203ms\n",
      "89:\tlearn: 0.0834290\ttotal: 1.66s\tremaining: 185ms\n",
      "90:\tlearn: 0.0833617\ttotal: 1.68s\tremaining: 166ms\n",
      "91:\tlearn: 0.0832953\ttotal: 1.7s\tremaining: 148ms\n",
      "92:\tlearn: 0.0832252\ttotal: 1.72s\tremaining: 129ms\n",
      "93:\tlearn: 0.0831543\ttotal: 1.74s\tremaining: 111ms\n",
      "94:\tlearn: 0.0830986\ttotal: 1.76s\tremaining: 92.6ms\n",
      "95:\tlearn: 0.0830444\ttotal: 1.78s\tremaining: 74.1ms\n",
      "96:\tlearn: 0.0829892\ttotal: 1.8s\tremaining: 55.7ms\n",
      "97:\tlearn: 0.0829384\ttotal: 1.82s\tremaining: 37.1ms\n",
      "98:\tlearn: 0.0828873\ttotal: 1.84s\tremaining: 18.6ms\n",
      "99:\tlearn: 0.0828394\ttotal: 1.86s\tremaining: 0us\n"
     ]
    },
    {
     "data": {
      "text/plain": [
       "<catboost.core.CatBoostRegressor at 0x7feb64fa2580>"
      ]
     },
     "execution_count": 6,
     "metadata": {},
     "output_type": "execute_result"
    }
   ],
   "source": [
    "# Store quantiles 0.01 through 0.99 in a list\n",
    "quantiles = [q/100 for q in range(1, 100)]\n",
    "\n",
    "# Format the quantiles as a string for Catboost\n",
    "quantile_str = str(quantiles).replace('[','').replace(']','')\n",
    "\n",
    "# Fit the multi quantile model\n",
    "model = CatBoostRegressor(iterations=100,\n",
    "                          loss_function=f'MultiQuantile:alpha={quantile_str}')\n",
    "\n",
    "model.fit(x_train.reshape(-1,1), y_train)"
   ]
  },
  {
   "cell_type": "code",
   "execution_count": 7,
   "metadata": {
    "ExecuteTime": {
     "end_time": "2023-02-25T08:56:57.158540Z",
     "start_time": "2023-02-25T08:56:57.139039Z"
    }
   },
   "outputs": [],
   "source": [
    "# Make predictions on the test set\n",
    "preds = model.predict(x_test.reshape(-1, 1))\n",
    "preds = pd.DataFrame(preds, columns=[f'pred_{q}' for q in quantiles])"
   ]
  },
  {
   "cell_type": "code",
   "execution_count": 9,
   "metadata": {
    "ExecuteTime": {
     "end_time": "2023-02-25T08:57:05.012382Z",
     "start_time": "2023-02-25T08:57:04.987947Z"
    }
   },
   "outputs": [
    {
     "data": {
      "text/html": [
       "<style scoped>\n",
       "    .dataframe tbody tr th:only-of-type {\n",
       "        vertical-align: middle;\n",
       "    }\n",
       "\n",
       "    .dataframe tbody tr th {\n",
       "        vertical-align: top;\n",
       "    }\n",
       "\n",
       "    .dataframe thead th {\n",
       "        text-align: right;\n",
       "    }\n",
       "</style>\n",
       "<table border=\"1\" class=\"dataframe\">\n",
       "  <thead>\n",
       "    <tr style=\"text-align: right;\">\n",
       "      <th></th>\n",
       "      <th>pred_0.01</th>\n",
       "      <th>pred_0.02</th>\n",
       "      <th>pred_0.03</th>\n",
       "      <th>pred_0.04</th>\n",
       "      <th>pred_0.05</th>\n",
       "      <th>pred_0.06</th>\n",
       "      <th>pred_0.07</th>\n",
       "      <th>pred_0.08</th>\n",
       "      <th>pred_0.09</th>\n",
       "      <th>pred_0.1</th>\n",
       "      <th>...</th>\n",
       "      <th>pred_0.9</th>\n",
       "      <th>pred_0.91</th>\n",
       "      <th>pred_0.92</th>\n",
       "      <th>pred_0.93</th>\n",
       "      <th>pred_0.94</th>\n",
       "      <th>pred_0.95</th>\n",
       "      <th>pred_0.96</th>\n",
       "      <th>pred_0.97</th>\n",
       "      <th>pred_0.98</th>\n",
       "      <th>pred_0.99</th>\n",
       "    </tr>\n",
       "  </thead>\n",
       "  <tbody>\n",
       "    <tr>\n",
       "      <th>0</th>\n",
       "      <td>3.484349</td>\n",
       "      <td>3.581225</td>\n",
       "      <td>3.612218</td>\n",
       "      <td>3.657550</td>\n",
       "      <td>3.707939</td>\n",
       "      <td>3.740295</td>\n",
       "      <td>3.757868</td>\n",
       "      <td>3.779672</td>\n",
       "      <td>3.807884</td>\n",
       "      <td>3.828785</td>\n",
       "      <td>...</td>\n",
       "      <td>4.650586</td>\n",
       "      <td>4.680860</td>\n",
       "      <td>4.703581</td>\n",
       "      <td>4.749773</td>\n",
       "      <td>4.802218</td>\n",
       "      <td>4.834870</td>\n",
       "      <td>4.877710</td>\n",
       "      <td>4.911816</td>\n",
       "      <td>4.944763</td>\n",
       "      <td>5.023177</td>\n",
       "    </tr>\n",
       "    <tr>\n",
       "      <th>1</th>\n",
       "      <td>4.094757</td>\n",
       "      <td>4.117323</td>\n",
       "      <td>4.148307</td>\n",
       "      <td>4.213493</td>\n",
       "      <td>4.261332</td>\n",
       "      <td>4.315170</td>\n",
       "      <td>4.342780</td>\n",
       "      <td>4.400535</td>\n",
       "      <td>4.426156</td>\n",
       "      <td>4.442776</td>\n",
       "      <td>...</td>\n",
       "      <td>5.177179</td>\n",
       "      <td>5.191943</td>\n",
       "      <td>5.207701</td>\n",
       "      <td>5.248551</td>\n",
       "      <td>5.281929</td>\n",
       "      <td>5.312704</td>\n",
       "      <td>5.339943</td>\n",
       "      <td>5.375514</td>\n",
       "      <td>5.410160</td>\n",
       "      <td>5.489163</td>\n",
       "    </tr>\n",
       "    <tr>\n",
       "      <th>2</th>\n",
       "      <td>3.036222</td>\n",
       "      <td>3.102161</td>\n",
       "      <td>3.159968</td>\n",
       "      <td>3.196806</td>\n",
       "      <td>3.210615</td>\n",
       "      <td>3.224268</td>\n",
       "      <td>3.243951</td>\n",
       "      <td>3.261405</td>\n",
       "      <td>3.278659</td>\n",
       "      <td>3.292482</td>\n",
       "      <td>...</td>\n",
       "      <td>4.082887</td>\n",
       "      <td>4.095615</td>\n",
       "      <td>4.110635</td>\n",
       "      <td>4.125743</td>\n",
       "      <td>4.143195</td>\n",
       "      <td>4.177254</td>\n",
       "      <td>4.214154</td>\n",
       "      <td>4.255194</td>\n",
       "      <td>4.286707</td>\n",
       "      <td>4.346988</td>\n",
       "    </tr>\n",
       "    <tr>\n",
       "      <th>3</th>\n",
       "      <td>3.491753</td>\n",
       "      <td>3.586055</td>\n",
       "      <td>3.606172</td>\n",
       "      <td>3.619562</td>\n",
       "      <td>3.632013</td>\n",
       "      <td>3.657156</td>\n",
       "      <td>3.677408</td>\n",
       "      <td>3.693587</td>\n",
       "      <td>3.711716</td>\n",
       "      <td>3.728403</td>\n",
       "      <td>...</td>\n",
       "      <td>4.559761</td>\n",
       "      <td>4.595307</td>\n",
       "      <td>4.618921</td>\n",
       "      <td>4.673336</td>\n",
       "      <td>4.719630</td>\n",
       "      <td>4.774770</td>\n",
       "      <td>4.802454</td>\n",
       "      <td>4.825196</td>\n",
       "      <td>4.852470</td>\n",
       "      <td>4.921912</td>\n",
       "    </tr>\n",
       "    <tr>\n",
       "      <th>4</th>\n",
       "      <td>3.638627</td>\n",
       "      <td>3.679085</td>\n",
       "      <td>3.701142</td>\n",
       "      <td>3.733046</td>\n",
       "      <td>3.779476</td>\n",
       "      <td>3.813797</td>\n",
       "      <td>3.844728</td>\n",
       "      <td>3.856212</td>\n",
       "      <td>3.869817</td>\n",
       "      <td>3.890357</td>\n",
       "      <td>...</td>\n",
       "      <td>4.761166</td>\n",
       "      <td>4.781832</td>\n",
       "      <td>4.802524</td>\n",
       "      <td>4.829247</td>\n",
       "      <td>4.869497</td>\n",
       "      <td>4.890136</td>\n",
       "      <td>4.919881</td>\n",
       "      <td>4.967651</td>\n",
       "      <td>4.996114</td>\n",
       "      <td>5.070092</td>\n",
       "    </tr>\n",
       "    <tr>\n",
       "      <th>...</th>\n",
       "      <td>...</td>\n",
       "      <td>...</td>\n",
       "      <td>...</td>\n",
       "      <td>...</td>\n",
       "      <td>...</td>\n",
       "      <td>...</td>\n",
       "      <td>...</td>\n",
       "      <td>...</td>\n",
       "      <td>...</td>\n",
       "      <td>...</td>\n",
       "      <td>...</td>\n",
       "      <td>...</td>\n",
       "      <td>...</td>\n",
       "      <td>...</td>\n",
       "      <td>...</td>\n",
       "      <td>...</td>\n",
       "      <td>...</td>\n",
       "      <td>...</td>\n",
       "      <td>...</td>\n",
       "      <td>...</td>\n",
       "      <td>...</td>\n",
       "    </tr>\n",
       "    <tr>\n",
       "      <th>995</th>\n",
       "      <td>4.023883</td>\n",
       "      <td>4.100093</td>\n",
       "      <td>4.150970</td>\n",
       "      <td>4.217260</td>\n",
       "      <td>4.233697</td>\n",
       "      <td>4.242331</td>\n",
       "      <td>4.252157</td>\n",
       "      <td>4.273557</td>\n",
       "      <td>4.292596</td>\n",
       "      <td>4.303269</td>\n",
       "      <td>...</td>\n",
       "      <td>5.048672</td>\n",
       "      <td>5.067402</td>\n",
       "      <td>5.087733</td>\n",
       "      <td>5.097104</td>\n",
       "      <td>5.119905</td>\n",
       "      <td>5.152478</td>\n",
       "      <td>5.178815</td>\n",
       "      <td>5.206532</td>\n",
       "      <td>5.233429</td>\n",
       "      <td>5.285694</td>\n",
       "    </tr>\n",
       "    <tr>\n",
       "      <th>996</th>\n",
       "      <td>2.934652</td>\n",
       "      <td>2.976107</td>\n",
       "      <td>3.018946</td>\n",
       "      <td>3.047222</td>\n",
       "      <td>3.069711</td>\n",
       "      <td>3.086254</td>\n",
       "      <td>3.099627</td>\n",
       "      <td>3.117910</td>\n",
       "      <td>3.136610</td>\n",
       "      <td>3.148727</td>\n",
       "      <td>...</td>\n",
       "      <td>3.984209</td>\n",
       "      <td>3.999207</td>\n",
       "      <td>4.019589</td>\n",
       "      <td>4.049526</td>\n",
       "      <td>4.072509</td>\n",
       "      <td>4.111146</td>\n",
       "      <td>4.160469</td>\n",
       "      <td>4.208714</td>\n",
       "      <td>4.248996</td>\n",
       "      <td>4.317756</td>\n",
       "    </tr>\n",
       "    <tr>\n",
       "      <th>997</th>\n",
       "      <td>3.157946</td>\n",
       "      <td>3.247416</td>\n",
       "      <td>3.299525</td>\n",
       "      <td>3.327901</td>\n",
       "      <td>3.351302</td>\n",
       "      <td>3.379221</td>\n",
       "      <td>3.399242</td>\n",
       "      <td>3.419269</td>\n",
       "      <td>3.435760</td>\n",
       "      <td>3.455624</td>\n",
       "      <td>...</td>\n",
       "      <td>4.249717</td>\n",
       "      <td>4.267057</td>\n",
       "      <td>4.277198</td>\n",
       "      <td>4.293322</td>\n",
       "      <td>4.320047</td>\n",
       "      <td>4.367582</td>\n",
       "      <td>4.424409</td>\n",
       "      <td>4.447142</td>\n",
       "      <td>4.487299</td>\n",
       "      <td>4.597367</td>\n",
       "    </tr>\n",
       "    <tr>\n",
       "      <th>998</th>\n",
       "      <td>2.934652</td>\n",
       "      <td>2.976107</td>\n",
       "      <td>3.018946</td>\n",
       "      <td>3.047222</td>\n",
       "      <td>3.069711</td>\n",
       "      <td>3.086254</td>\n",
       "      <td>3.099627</td>\n",
       "      <td>3.117910</td>\n",
       "      <td>3.136610</td>\n",
       "      <td>3.148727</td>\n",
       "      <td>...</td>\n",
       "      <td>3.984209</td>\n",
       "      <td>3.999207</td>\n",
       "      <td>4.019589</td>\n",
       "      <td>4.049526</td>\n",
       "      <td>4.072509</td>\n",
       "      <td>4.111146</td>\n",
       "      <td>4.160469</td>\n",
       "      <td>4.208714</td>\n",
       "      <td>4.248996</td>\n",
       "      <td>4.317756</td>\n",
       "    </tr>\n",
       "    <tr>\n",
       "      <th>999</th>\n",
       "      <td>3.885935</td>\n",
       "      <td>3.952468</td>\n",
       "      <td>3.987240</td>\n",
       "      <td>4.050050</td>\n",
       "      <td>4.090534</td>\n",
       "      <td>4.108351</td>\n",
       "      <td>4.130500</td>\n",
       "      <td>4.141009</td>\n",
       "      <td>4.160772</td>\n",
       "      <td>4.179903</td>\n",
       "      <td>...</td>\n",
       "      <td>4.903974</td>\n",
       "      <td>4.926321</td>\n",
       "      <td>4.942273</td>\n",
       "      <td>4.961703</td>\n",
       "      <td>4.991171</td>\n",
       "      <td>5.019699</td>\n",
       "      <td>5.049141</td>\n",
       "      <td>5.093158</td>\n",
       "      <td>5.110568</td>\n",
       "      <td>5.175251</td>\n",
       "    </tr>\n",
       "  </tbody>\n",
       "</table>\n",
       "<p>1000 rows × 99 columns</p>\n",
""      ],
      "text/plain": [
       "     pred_0.01  pred_0.02  pred_0.03  pred_0.04  pred_0.05  pred_0.06  \\\n",
       "0     3.484349   3.581225   3.612218   3.657550   3.707939   3.740295   \n",
       "1     4.094757   4.117323   4.148307   4.213493   4.261332   4.315170   \n",
       "2     3.036222   3.102161   3.159968   3.196806   3.210615   3.224268   \n",
       "3     3.491753   3.586055   3.606172   3.619562   3.632013   3.657156   \n",
       "4     3.638627   3.679085   3.701142   3.733046   3.779476   3.813797   \n",
       "..         ...        ...        ...        ...        ...        ...   \n",
       "995   4.023883   4.100093   4.150970   4.217260   4.233697   4.242331   \n",
       "996   2.934652   2.976107   3.018946   3.047222   3.069711   3.086254   \n",
       "997   3.157946   3.247416   3.299525   3.327901   3.351302   3.379221   \n",
       "998   2.934652   2.976107   3.018946   3.047222   3.069711   3.086254   \n",
       "999   3.885935   3.952468   3.987240   4.050050   4.090534   4.108351   \n",
       "\n",
       "     pred_0.07  pred_0.08  pred_0.09  pred_0.1  ...  pred_0.9  pred_0.91  \\\n",
       "0     3.757868   3.779672   3.807884  3.828785  ...  4.650586   4.680860   \n",
       "1     4.342780   4.400535   4.426156  4.442776  ...  5.177179   5.191943   \n",
       "2     3.243951   3.261405   3.278659  3.292482  ...  4.082887   4.095615   \n",
       "3     3.677408   3.693587   3.711716  3.728403  ...  4.559761   4.595307   \n",
       "4     3.844728   3.856212   3.869817  3.890357  ...  4.761166   4.781832   \n",
       "..         ...        ...        ...       ...  ...       ...        ...   \n",
       "995   4.252157   4.273557   4.292596  4.303269  ...  5.048672   5.067402   \n",
       "996   3.099627   3.117910   3.136610  3.148727  ...  3.984209   3.999207   \n",
       "997   3.399242   3.419269   3.435760  3.455624  ...  4.249717   4.267057   \n",
       "998   3.099627   3.117910   3.136610  3.148727  ...  3.984209   3.999207   \n",
       "999   4.130500   4.141009   4.160772  4.179903  ...  4.903974   4.926321   \n",
       "\n",
       "     pred_0.92  pred_0.93  pred_0.94  pred_0.95  pred_0.96  pred_0.97  \\\n",
       "0     4.703581   4.749773   4.802218   4.834870   4.877710   4.911816   \n",
       "1     5.207701   5.248551   5.281929   5.312704   5.339943   5.375514   \n",
       "2     4.110635   4.125743   4.143195   4.177254   4.214154   4.255194   \n",
       "3     4.618921   4.673336   4.719630   4.774770   4.802454   4.825196   \n",
       "4     4.802524   4.829247   4.869497   4.890136   4.919881   4.967651   \n",
       "..         ...        ...        ...        ...        ...        ...   \n",
       "995   5.087733   5.097104   5.119905   5.152478   5.178815   5.206532   \n",
       "996   4.019589   4.049526   4.072509   4.111146   4.160469   4.208714   \n",
       "997   4.277198   4.293322   4.320047   4.367582   4.424409   4.447142   \n",
       "998   4.019589   4.049526   4.072509   4.111146   4.160469   4.208714   \n",
       "999   4.942273   4.961703   4.991171   5.019699   5.049141   5.093158   \n",
       "\n",
       "     pred_0.98  pred_0.99  \n",
       "0     4.944763   5.023177  \n",
       "1     5.410160   5.489163  \n",
       "2     4.286707   4.346988  \n",
       "3     4.852470   4.921912  \n",
       "4     4.996114   5.070092  \n",
       "..         ...        ...  \n",
       "995   5.233429   5.285694  \n",
       "996   4.248996   4.317756  \n",
       "997   4.487299   4.597367  \n",
       "998   4.248996   4.317756  \n",
       "999   5.110568   5.175251  \n",
       "\n",
       "[1000 rows x 99 columns]"
      ]
     },
     "execution_count": 9,
     "metadata": {},
     "output_type": "execute_result"
    }
   ],
   "source": [
    "preds"
   ]
  },
  {
   "cell_type": "code",
   "execution_count": 8,
   "metadata": {
    "ExecuteTime": {
     "end_time": "2023-02-25T08:56:59.680960Z",
     "start_time": "2023-02-25T08:56:59.436054Z"
    }
   },
   "outputs": [
    {
     "data": {
      "text/plain": [
       "<matplotlib.legend.Legend at 0x7feb650fdeb0>"
      ]
     },
     "execution_count": 8,
     "metadata": {},
     "output_type": "execute_result"
    },
    {
     "data": {
      "image/png": "[encoded data removed]",
      "text/plain": [
       "<Figure size 720x432 with 1 Axes>"
      ]
     },
     "metadata": {},
     "output_type": "display_data"
    }
   ],
   "source": [
    "fig, ax = plt.subplots(figsize=(10, 6))\n",
    "ax.scatter(x_test, y_test)\n",
    "\n",
    "for col in ['pred_0.05', 'pred_0.5', 'pred_0.95']:\n",
    "    ax.scatter(x_test.reshape(-1,1), preds[col], alpha=0.50, label=col)\n",
    "\n",
    "ax.legend()"
   ]
  },
  {
   "cell_type": "markdown",
   "metadata": {},
   "source": [
    "# Coverage\n",
    "<hr style=\"border:2px solid black\"> </hr>"
   ]
  },
  {
   "cell_type": "markdown",
   "metadata": {},
   "source": [
    "    \n",
    "- When working with predicted quantiles, one **metric** we’re often interested in analyzing is coverage.\n",
    "- **Coverage** is the percentage of targets that fall between two desired quantiles. As an example, coverage can be computed using the 5th and 95th quantiles as follows:\n",
    "- Using the 5th and 95th quantiles, **assuming perfect calibration**, we would expect to have a coverage of 95–5 = 90%. In this example, the predicted quantiles were slightly off but still close, giving a coverage value of 91.4%.\n",
    "    \n",
""   ]
  },
  {
   "cell_type": "code",
   "execution_count": 10,
   "metadata": {
    "ExecuteTime": {
     "end_time": "2023-02-25T09:12:12.366540Z",
     "start_time": "2023-02-25T09:12:12.361461Z"
    }
   },
   "outputs": [
    {
     "name": "stdout",
     "output_type": "stream",
     "text": [
      "91.10000000000001\n"
     ]
    }
   ],
   "source": [
    "coverage_90 = np.mean((y_test <= preds['pred_0.95']) & (\n",
    "    y_test >= preds['pred_0.05']))*100\n",
    "print(coverage_90)"
   ]
  },
  {
   "cell_type": "markdown",
   "metadata": {},
   "source": [
    "# Non-Linear Regression with Variable Noise\n",
    "<hr style=\"border:2px solid black\"> </hr>"
   ]
  },
  {
   "cell_type": "code",
   "execution_count": 11,
   "metadata": {
    "ExecuteTime": {
     "end_time": "2023-02-25T09:14:29.531870Z",
     "start_time": "2023-02-25T09:14:29.521220Z"
    }
   },
   "outputs": [],
   "source": [
    "# Create regions of the domain that have variable noise\n",
    "bounds = [(-10, -8), (-5, -4), (-4, -3), (-3, -1),\n",
    "          (-1, 1), (1, 3), (3, 4), (4, 5), (8, 10)]\n",
    "scales = [18, 15, 8, 11, 1, 2, 9, 16, 19]\n",
    "\n",
    "x_train = np.array([])\n",
    "x_test = np.array([])\n",
    "y_train = np.array([])\n",
    "y_test = np.array([])\n",
    "\n",
    "for b, scale in zip(bounds, scales):\n",
    "\n",
    "    # Randomly select the number of samples in each region\n",
    "    n = np.random.randint(low=100, high=200)\n",
    "\n",
    "    # Generate values of the domain between b[0] and b[1]\n",
    "    x_curr = np.linspace(b[0], b[1], n)\n",
    "\n",
    "    # For even scales, noise comes from an exponential distribution\n",
    "    if scale % 2 == 0:\n",
    "\n",
    "        noise_train = np.random.exponential(scale=scale, size=n)\n",
    "        noise_test = np.random.exponential(scale=scale, size=n)\n",
    "\n",
    "    # For odd scales, noise comes from a normal distribution\n",
    "    else:\n",
    "\n",
    "        noise_train = np.random.normal(scale=scale, size=n)\n",
    "        noise_test = np.random.normal(scale=scale, size=n)\n",
    "\n",
    "    # Create training and testing sets\n",
    "    y_curr_train = x_curr**2 + noise_train\n",
    "    y_curr_test = x_curr**2 + noise_test\n",
    "\n",
    "    x_train = np.concatenate([x_train, x_curr])\n",
    "    x_test = np.concatenate([x_test, x_curr])\n",
    "    y_train = np.concatenate([y_train, y_curr_train])\n",
    "    y_test = np.concatenate([y_test, y_curr_test])"
   ]
  },
  {
   "cell_type": "code",
   "execution_count": 13,
   "metadata": {
    "ExecuteTime": {
     "end_time": "2023-02-25T09:15:03.047358Z",
     "start_time": "2023-02-25T09:14:57.130435Z"
    },
    "scrolled": true
   },
   "outputs": [
    {
     "name": "stdout",
     "output_type": "stream",
     "text": [
      "0:\tlearn: 9.1396884\ttotal: 23.3ms\tremaining: 6.97s\n",
      "1:\tlearn: 8.9340573\ttotal: 45.3ms\tremaining: 6.75s\n",
      "2:\tlearn: 8.7321227\ttotal: 57.9ms\tremaining: 5.73s\n",
      "3:\tlearn: 8.5266947\ttotal: 78.1ms\tremaining: 5.78s\n",
      "4:\tlearn: 8.3374824\ttotal: 97.2ms\tremaining: 5.74s\n",
      "5:\tlearn: 8.1456060\ttotal: 116ms\tremaining: 5.69s\n",
      "6:\tlearn: 7.9726078\ttotal: 136ms\tremaining: 5.7s\n",
      "7:\tlearn: 7.8004474\ttotal: 156ms\tremaining: 5.68s\n",
      "8:\tlearn: 7.6273872\ttotal: 175ms\tremaining: 5.66s\n",
      "9:\tlearn: 7.4642305\ttotal: 194ms\tremaining: 5.64s\n",
      "10:\tlearn: 7.3097930\ttotal: 214ms\tremaining: 5.62s\n",
      "11:\tlearn: 7.1572844\ttotal: 234ms\tremaining: 5.62s\n",
      "12:\tlearn: 7.0127828\ttotal: 254ms\tremaining: 5.61s\n",
      "13:\tlearn: 6.8730612\ttotal: 274ms\tremaining: 5.61s\n",
      "14:\tlearn: 6.7347831\ttotal: 294ms\tremaining: 5.59s\n",
      "15:\tlearn: 6.6060161\ttotal: 314ms\tremaining: 5.58s\n",
      "16:\tlearn: 6.4940266\ttotal: 334ms\tremaining: 5.55s\n",
      "17:\tlearn: 6.3758911\ttotal: 353ms\tremaining: 5.53s\n",
      "18:\tlearn: 6.2572879\ttotal: 372ms\tremaining: 5.51s\n",
      "19:\tlearn: 6.1391890\ttotal: 392ms\tremaining: 5.49s\n",
      "20:\tlearn: 6.0310233\ttotal: 411ms\tremaining: 5.46s\n",
      "21:\tlearn: 5.9301533\ttotal: 430ms\tremaining: 5.44s\n",
      "22:\tlearn: 5.8222256\ttotal: 450ms\tremaining: 5.42s\n",
      "23:\tlearn: 5.7311801\ttotal: 470ms\tremaining: 5.4s\n",
      "24:\tlearn: 5.6421049\ttotal: 490ms\tremaining: 5.39s\n",
      "25:\tlearn: 5.5457733\ttotal: 510ms\tremaining: 5.37s\n",
      "26:\tlearn: 5.4633088\ttotal: 529ms\tremaining: 5.35s\n",
      "27:\tlearn: 5.3758219\ttotal: 549ms\tremaining: 5.33s\n",
      "28:\tlearn: 5.2980386\ttotal: 569ms\tremaining: 5.31s\n",
      "29:\tlearn: 5.2193106\ttotal: 588ms\tremaining: 5.29s\n",
      "30:\tlearn: 5.1361128\ttotal: 608ms\tremaining: 5.28s\n",
      "31:\tlearn: 5.0578885\ttotal: 628ms\tremaining: 5.26s\n",
      "32:\tlearn: 4.9829659\ttotal: 649ms\tremaining: 5.25s\n",
      "33:\tlearn: 4.9154090\ttotal: 669ms\tremaining: 5.24s\n",
      "34:\tlearn: 4.8518358\ttotal: 690ms\tremaining: 5.22s\n",
      "35:\tlearn: 4.7905487\ttotal: 710ms\tremaining: 5.21s\n",
      "36:\tlearn: 4.7313355\ttotal: 729ms\tremaining: 5.18s\n",
      "37:\tlearn: 4.6715045\ttotal: 749ms\tremaining: 5.16s\n",
      "38:\tlearn: 4.6288587\ttotal: 768ms\tremaining: 5.14s\n",
      "39:\tlearn: 4.5761879\ttotal: 788ms\tremaining: 5.12s\n",
      "40:\tlearn: 4.5232915\ttotal: 808ms\tremaining: 5.1s\n",
      "41:\tlearn: 4.4734354\ttotal: 827ms\tremaining: 5.08s\n",
      "42:\tlearn: 4.4215039\ttotal: 846ms\tremaining: 5.06s\n",
      "43:\tlearn: 4.3728154\ttotal: 866ms\tremaining: 5.04s\n",
      "44:\tlearn: 4.3336896\ttotal: 886ms\tremaining: 5.02s\n",
      "45:\tlearn: 4.2882155\ttotal: 906ms\tremaining: 5s\n",
      "46:\tlearn: 4.2511947\ttotal: 925ms\tremaining: 4.98s\n",
      "47:\tlearn: 4.2130504\ttotal: 945ms\tremaining: 4.96s\n",
      "48:\tlearn: 4.1725109\ttotal: 964ms\tremaining: 4.94s\n",
      "49:\tlearn: 4.1445021\ttotal: 984ms\tremaining: 4.92s\n",
      "50:\tlearn: 4.1096552\ttotal: 1s\tremaining: 4.9s\n",
      "51:\tlearn: 4.0725315\ttotal: 1.02s\tremaining: 4.88s\n",
      "52:\tlearn: 4.0382547\ttotal: 1.04s\tremaining: 4.86s\n",
      "53:\tlearn: 4.0050869\ttotal: 1.06s\tremaining: 4.84s\n",
      "54:\tlearn: 3.9729372\ttotal: 1.08s\tremaining: 4.82s\n",
      "55:\tlearn: 3.9422836\ttotal: 1.1s\tremaining: 4.81s\n",
      "56:\tlearn: 3.9182099\ttotal: 1.12s\tremaining: 4.79s\n",
      "57:\tlearn: 3.8971465\ttotal: 1.15s\tremaining: 4.78s\n",
      "58:\tlearn: 3.8704828\ttotal: 1.17s\tremaining: 4.76s\n",
      "59:\tlearn: 3.8501421\ttotal: 1.19s\tremaining: 4.74s\n",
      "60:\tlearn: 3.8268715\ttotal: 1.2s\tremaining: 4.72s\n",
      "61:\tlearn: 3.8035149\ttotal: 1.22s\tremaining: 4.7s\n",
      "62:\tlearn: 3.7808074\ttotal: 1.24s\tremaining: 4.68s\n",
      "63:\tlearn: 3.7622160\ttotal: 1.26s\tremaining: 4.65s\n",
      "64:\tlearn: 3.7410905\ttotal: 1.28s\tremaining: 4.62s\n",
      "65:\tlearn: 3.7248034\ttotal: 1.3s\tremaining: 4.6s\n",
      "66:\tlearn: 3.7092386\ttotal: 1.32s\tremaining: 4.58s\n",
      "67:\tlearn: 3.6916400\ttotal: 1.33s\tremaining: 4.56s\n",
      "68:\tlearn: 3.6772574\ttotal: 1.35s\tremaining: 4.53s\n",
      "69:\tlearn: 3.6586133\ttotal: 1.37s\tremaining: 4.5s\n",
      "70:\tlearn: 3.6453662\ttotal: 1.39s\tremaining: 4.48s\n",
      "71:\tlearn: 3.6304547\ttotal: 1.41s\tremaining: 4.45s\n",
      "72:\tlearn: 3.6173071\ttotal: 1.42s\tremaining: 4.42s\n",
      "73:\tlearn: 3.6032518\ttotal: 1.44s\tremaining: 4.4s\n",
      "74:\tlearn: 3.5897899\ttotal: 1.46s\tremaining: 4.37s\n",
      "75:\tlearn: 3.5762340\ttotal: 1.48s\tremaining: 4.35s\n",
      "76:\tlearn: 3.5633375\ttotal: 1.49s\tremaining: 4.32s\n",
      "77:\tlearn: 3.5516999\ttotal: 1.51s\tremaining: 4.3s\n",
      "78:\tlearn: 3.5418583\ttotal: 1.53s\tremaining: 4.29s\n",
      "79:\tlearn: 3.5354441\ttotal: 1.55s\tremaining: 4.27s\n",
      "80:\tlearn: 3.5266564\ttotal: 1.57s\tremaining: 4.25s\n",
      "81:\tlearn: 3.5150957\ttotal: 1.59s\tremaining: 4.22s\n",
      "82:\tlearn: 3.5062036\ttotal: 1.61s\tremaining: 4.2s\n",
      "83:\tlearn: 3.4975398\ttotal: 1.63s\tremaining: 4.18s\n",
      "84:\tlearn: 3.4876765\ttotal: 1.65s\tremaining: 4.16s\n",
      "85:\tlearn: 3.4796675\ttotal: 1.66s\tremaining: 4.14s\n",
      "86:\tlearn: 3.4706476\ttotal: 1.68s\tremaining: 4.12s\n",
      "87:\tlearn: 3.4630446\ttotal: 1.7s\tremaining: 4.1s\n",
      "88:\tlearn: 3.4554314\ttotal: 1.72s\tremaining: 4.08s\n",
      "89:\tlearn: 3.4491317\ttotal: 1.74s\tremaining: 4.07s\n",
      "90:\tlearn: 3.4417404\ttotal: 1.76s\tremaining: 4.05s\n",
      "91:\tlearn: 3.4350841\ttotal: 1.78s\tremaining: 4.03s\n",
      "92:\tlearn: 3.4293199\ttotal: 1.8s\tremaining: 4.01s\n",
      "93:\tlearn: 3.4240997\ttotal: 1.82s\tremaining: 3.98s\n",
      "94:\tlearn: 3.4185023\ttotal: 1.83s\tremaining: 3.96s\n",
      "95:\tlearn: 3.4118752\ttotal: 1.85s\tremaining: 3.94s\n",
      "96:\tlearn: 3.4050140\ttotal: 1.87s\tremaining: 3.91s\n",
      "97:\tlearn: 3.3995996\ttotal: 1.89s\tremaining: 3.89s\n",
      "98:\tlearn: 3.3953695\ttotal: 1.9s\tremaining: 3.87s\n",
      "99:\tlearn: 3.3909578\ttotal: 1.92s\tremaining: 3.84s\n",
      "100:\tlearn: 3.3865382\ttotal: 1.94s\tremaining: 3.82s\n",
      "101:\tlearn: 3.3824444\ttotal: 1.96s\tremaining: 3.8s\n",
      "102:\tlearn: 3.3781929\ttotal: 1.98s\tremaining: 3.78s\n",
      "103:\tlearn: 3.3742419\ttotal: 2s\tremaining: 3.76s\n",
      "104:\tlearn: 3.3692633\ttotal: 2.01s\tremaining: 3.74s\n",
      "105:\tlearn: 3.3649391\ttotal: 2.03s\tremaining: 3.71s\n",
      "106:\tlearn: 3.3616697\ttotal: 2.05s\tremaining: 3.69s\n",
      "107:\tlearn: 3.3584464\ttotal: 2.06s\tremaining: 3.67s\n",
      "108:\tlearn: 3.3544284\ttotal: 2.08s\tremaining: 3.65s\n",
      "109:\tlearn: 3.3513092\ttotal: 2.1s\tremaining: 3.63s\n",
      "110:\tlearn: 3.3478706\ttotal: 2.12s\tremaining: 3.61s\n",
      "111:\tlearn: 3.3454030\ttotal: 2.14s\tremaining: 3.59s\n",
      "112:\tlearn: 3.3423577\ttotal: 2.16s\tremaining: 3.57s\n",
      "113:\tlearn: 3.3398231\ttotal: 2.18s\tremaining: 3.55s\n",
      "114:\tlearn: 3.3366742\ttotal: 2.2s\tremaining: 3.54s\n",
      "115:\tlearn: 3.3346220\ttotal: 2.22s\tremaining: 3.52s\n",
      "116:\tlearn: 3.3317286\ttotal: 2.24s\tremaining: 3.5s\n",
      "117:\tlearn: 3.3293955\ttotal: 2.26s\tremaining: 3.49s\n",
      "118:\tlearn: 3.3272467\ttotal: 2.28s\tremaining: 3.47s\n",
      "119:\tlearn: 3.3248439\ttotal: 2.3s\tremaining: 3.45s\n",
      "120:\tlearn: 3.3218922\ttotal: 2.32s\tremaining: 3.44s\n",
      "121:\tlearn: 3.3188204\ttotal: 2.34s\tremaining: 3.42s\n",
      "122:\tlearn: 3.3163596\ttotal: 2.37s\tremaining: 3.4s\n",
      "123:\tlearn: 3.3140445\ttotal: 2.39s\tremaining: 3.39s\n",
      "124:\tlearn: 3.3110091\ttotal: 2.41s\tremaining: 3.37s\n",
      "125:\tlearn: 3.3092540\ttotal: 2.42s\tremaining: 3.35s\n",
      "126:\tlearn: 3.3072626\ttotal: 2.44s\tremaining: 3.33s\n",
      "127:\tlearn: 3.3052938\ttotal: 2.46s\tremaining: 3.31s\n",
      "128:\tlearn: 3.3032517\ttotal: 2.48s\tremaining: 3.29s\n",
      "129:\tlearn: 3.3010877\ttotal: 2.5s\tremaining: 3.27s\n",
      "130:\tlearn: 3.2990600\ttotal: 2.52s\tremaining: 3.25s\n",
      "131:\tlearn: 3.2980723\ttotal: 2.54s\tremaining: 3.24s\n",
      "132:\tlearn: 3.2965293\ttotal: 2.56s\tremaining: 3.22s\n",
      "133:\tlearn: 3.2947695\ttotal: 2.58s\tremaining: 3.2s\n",
      "134:\tlearn: 3.2934816\ttotal: 2.6s\tremaining: 3.18s\n",
      "135:\tlearn: 3.2915955\ttotal: 2.62s\tremaining: 3.16s\n",
      "136:\tlearn: 3.2905116\ttotal: 2.64s\tremaining: 3.14s\n",
      "137:\tlearn: 3.2889216\ttotal: 2.66s\tremaining: 3.13s\n",
      "138:\tlearn: 3.2867643\ttotal: 2.68s\tremaining: 3.11s\n",
      "139:\tlearn: 3.2855419\ttotal: 2.7s\tremaining: 3.09s\n",
      "140:\tlearn: 3.2847966\ttotal: 2.72s\tremaining: 3.07s\n",
      "141:\tlearn: 3.2840684\ttotal: 2.74s\tremaining: 3.05s\n",
      "142:\tlearn: 3.2829466\ttotal: 2.76s\tremaining: 3.03s\n",
      "143:\tlearn: 3.2814727\ttotal: 2.78s\tremaining: 3.02s\n",
      "144:\tlearn: 3.2804511\ttotal: 2.81s\tremaining: 3s\n",
      "145:\tlearn: 3.2790782\ttotal: 2.83s\tremaining: 2.98s\n",
      "146:\tlearn: 3.2782362\ttotal: 2.85s\tremaining: 2.96s\n",
      "147:\tlearn: 3.2770588\ttotal: 2.87s\tremaining: 2.94s\n",
      "148:\tlearn: 3.2760670\ttotal: 2.89s\tremaining: 2.92s\n",
      "149:\tlearn: 3.2750983\ttotal: 2.91s\tremaining: 2.91s\n",
      "150:\tlearn: 3.2735103\ttotal: 2.92s\tremaining: 2.89s\n",
      "151:\tlearn: 3.2727555\ttotal: 2.94s\tremaining: 2.87s\n",
      "152:\tlearn: 3.2718569\ttotal: 2.96s\tremaining: 2.85s\n",
      "153:\tlearn: 3.2711699\ttotal: 2.98s\tremaining: 2.83s\n",
      "154:\tlearn: 3.2701864\ttotal: 3.01s\tremaining: 2.81s\n",
      "155:\tlearn: 3.2694625\ttotal: 3.03s\tremaining: 2.79s\n",
      "156:\tlearn: 3.2689728\ttotal: 3.05s\tremaining: 2.78s\n",
      "157:\tlearn: 3.2681173\ttotal: 3.07s\tremaining: 2.76s\n",
      "158:\tlearn: 3.2671779\ttotal: 3.09s\tremaining: 2.74s\n",
      "159:\tlearn: 3.2667030\ttotal: 3.11s\tremaining: 2.72s\n",
      "160:\tlearn: 3.2660629\ttotal: 3.13s\tremaining: 2.7s\n",
      "161:\tlearn: 3.2653448\ttotal: 3.15s\tremaining: 2.68s\n"
     ]
    },
    {
     "name": "stdout",
     "output_type": "stream",
     "text": [
      "162:\tlearn: 3.2639827\ttotal: 3.17s\tremaining: 2.66s\n",
      "163:\tlearn: 3.2637779\ttotal: 3.17s\tremaining: 2.63s\n",
      "164:\tlearn: 3.2627051\ttotal: 3.19s\tremaining: 2.61s\n",
      "165:\tlearn: 3.2616670\ttotal: 3.21s\tremaining: 2.59s\n",
      "166:\tlearn: 3.2605432\ttotal: 3.23s\tremaining: 2.57s\n",
      "167:\tlearn: 3.2600017\ttotal: 3.25s\tremaining: 2.56s\n",
      "168:\tlearn: 3.2590521\ttotal: 3.27s\tremaining: 2.54s\n",
      "169:\tlearn: 3.2583831\ttotal: 3.29s\tremaining: 2.52s\n",
      "170:\tlearn: 3.2575514\ttotal: 3.31s\tremaining: 2.5s\n",
      "171:\tlearn: 3.2571557\ttotal: 3.33s\tremaining: 2.48s\n",
      "172:\tlearn: 3.2566968\ttotal: 3.35s\tremaining: 2.46s\n",
      "173:\tlearn: 3.2563837\ttotal: 3.37s\tremaining: 2.44s\n",
      "174:\tlearn: 3.2555712\ttotal: 3.39s\tremaining: 2.42s\n",
      "175:\tlearn: 3.2549745\ttotal: 3.4s\tremaining: 2.4s\n",
      "176:\tlearn: 3.2544036\ttotal: 3.42s\tremaining: 2.38s\n",
      "177:\tlearn: 3.2531536\ttotal: 3.44s\tremaining: 2.36s\n",
      "178:\tlearn: 3.2513871\ttotal: 3.46s\tremaining: 2.34s\n",
      "179:\tlearn: 3.2498878\ttotal: 3.48s\tremaining: 2.32s\n",
      "180:\tlearn: 3.2494343\ttotal: 3.5s\tremaining: 2.3s\n",
      "181:\tlearn: 3.2485861\ttotal: 3.51s\tremaining: 2.28s\n",
      "182:\tlearn: 3.2479529\ttotal: 3.53s\tremaining: 2.26s\n",
      "183:\tlearn: 3.2475952\ttotal: 3.55s\tremaining: 2.24s\n",
      "184:\tlearn: 3.2472466\ttotal: 3.57s\tremaining: 2.22s\n",
      "185:\tlearn: 3.2466589\ttotal: 3.59s\tremaining: 2.2s\n",
      "186:\tlearn: 3.2457880\ttotal: 3.61s\tremaining: 2.18s\n",
      "187:\tlearn: 3.2444858\ttotal: 3.63s\tremaining: 2.16s\n",
      "188:\tlearn: 3.2442069\ttotal: 3.65s\tremaining: 2.14s\n",
      "189:\tlearn: 3.2417283\ttotal: 3.67s\tremaining: 2.12s\n",
      "190:\tlearn: 3.2409866\ttotal: 3.69s\tremaining: 2.1s\n",
      "191:\tlearn: 3.2400416\ttotal: 3.71s\tremaining: 2.08s\n",
      "192:\tlearn: 3.2398220\ttotal: 3.73s\tremaining: 2.07s\n",
      "193:\tlearn: 3.2389295\ttotal: 3.75s\tremaining: 2.05s\n",
      "194:\tlearn: 3.2381351\ttotal: 3.77s\tremaining: 2.03s\n",
      "195:\tlearn: 3.2372115\ttotal: 3.79s\tremaining: 2.01s\n",
      "196:\tlearn: 3.2367234\ttotal: 3.81s\tremaining: 1.99s\n",
      "197:\tlearn: 3.2365531\ttotal: 3.83s\tremaining: 1.97s\n",
      "198:\tlearn: 3.2353649\ttotal: 3.85s\tremaining: 1.95s\n",
      "199:\tlearn: 3.2346072\ttotal: 3.87s\tremaining: 1.93s\n",
      "200:\tlearn: 3.2341717\ttotal: 3.89s\tremaining: 1.92s\n",
      "201:\tlearn: 3.2337763\ttotal: 3.91s\tremaining: 1.9s\n",
      "202:\tlearn: 3.2331493\ttotal: 3.93s\tremaining: 1.88s\n",
      "203:\tlearn: 3.2327663\ttotal: 3.95s\tremaining: 1.86s\n",
      "204:\tlearn: 3.2319146\ttotal: 3.97s\tremaining: 1.84s\n",
      "205:\tlearn: 3.2313437\ttotal: 3.98s\tremaining: 1.82s\n",
      "206:\tlearn: 3.2308761\ttotal: 4s\tremaining: 1.8s\n",
      "207:\tlearn: 3.2298066\ttotal: 4.02s\tremaining: 1.78s\n",
      "208:\tlearn: 3.2293182\ttotal: 4.04s\tremaining: 1.76s\n",
      "209:\tlearn: 3.2289116\ttotal: 4.06s\tremaining: 1.74s\n",
      "210:\tlearn: 3.2285195\ttotal: 4.08s\tremaining: 1.72s\n",
      "211:\tlearn: 3.2279954\ttotal: 4.09s\tremaining: 1.7s\n",
      "212:\tlearn: 3.2272645\ttotal: 4.11s\tremaining: 1.68s\n",
      "213:\tlearn: 3.2267510\ttotal: 4.13s\tremaining: 1.66s\n",
      "214:\tlearn: 3.2263140\ttotal: 4.15s\tremaining: 1.64s\n",
      "215:\tlearn: 3.2261668\ttotal: 4.16s\tremaining: 1.62s\n",
      "216:\tlearn: 3.2259452\ttotal: 4.17s\tremaining: 1.6s\n",
      "217:\tlearn: 3.2249782\ttotal: 4.2s\tremaining: 1.58s\n",
      "218:\tlearn: 3.2245084\ttotal: 4.21s\tremaining: 1.56s\n",
      "219:\tlearn: 3.2237195\ttotal: 4.24s\tremaining: 1.54s\n",
      "220:\tlearn: 3.2231613\ttotal: 4.25s\tremaining: 1.52s\n",
      "221:\tlearn: 3.2228480\ttotal: 4.27s\tremaining: 1.5s\n",
      "222:\tlearn: 3.2223711\ttotal: 4.29s\tremaining: 1.48s\n",
      "223:\tlearn: 3.2216137\ttotal: 4.31s\tremaining: 1.46s\n",
      "224:\tlearn: 3.2211638\ttotal: 4.33s\tremaining: 1.44s\n",
      "225:\tlearn: 3.2193684\ttotal: 4.35s\tremaining: 1.43s\n",
      "226:\tlearn: 3.2192490\ttotal: 4.37s\tremaining: 1.41s\n",
      "227:\tlearn: 3.2189300\ttotal: 4.39s\tremaining: 1.39s\n",
      "228:\tlearn: 3.2183234\ttotal: 4.41s\tremaining: 1.37s\n",
      "229:\tlearn: 3.2179735\ttotal: 4.43s\tremaining: 1.35s\n",
      "230:\tlearn: 3.2176993\ttotal: 4.44s\tremaining: 1.33s\n",
      "231:\tlearn: 3.2164944\ttotal: 4.46s\tremaining: 1.31s\n",
      "232:\tlearn: 3.2148445\ttotal: 4.48s\tremaining: 1.29s\n",
      "233:\tlearn: 3.2145751\ttotal: 4.5s\tremaining: 1.27s\n",
      "234:\tlearn: 3.2141169\ttotal: 4.51s\tremaining: 1.25s\n",
      "235:\tlearn: 3.2137019\ttotal: 4.53s\tremaining: 1.23s\n",
      "236:\tlearn: 3.2131428\ttotal: 4.55s\tremaining: 1.21s\n",
      "237:\tlearn: 3.2127225\ttotal: 4.57s\tremaining: 1.19s\n",
      "238:\tlearn: 3.2119338\ttotal: 4.59s\tremaining: 1.17s\n",
      "239:\tlearn: 3.2109883\ttotal: 4.61s\tremaining: 1.15s\n",
      "240:\tlearn: 3.2104840\ttotal: 4.63s\tremaining: 1.13s\n",
      "241:\tlearn: 3.2095918\ttotal: 4.64s\tremaining: 1.11s\n",
      "242:\tlearn: 3.2088603\ttotal: 4.66s\tremaining: 1.09s\n",
      "243:\tlearn: 3.2084991\ttotal: 4.68s\tremaining: 1.07s\n",
      "244:\tlearn: 3.2076879\ttotal: 4.7s\tremaining: 1.05s\n",
      "245:\tlearn: 3.2072611\ttotal: 4.72s\tremaining: 1.04s\n",
      "246:\tlearn: 3.2058777\ttotal: 4.74s\tremaining: 1.02s\n",
      "247:\tlearn: 3.2054545\ttotal: 4.76s\tremaining: 998ms\n",
      "248:\tlearn: 3.2047276\ttotal: 4.78s\tremaining: 979ms\n",
      "249:\tlearn: 3.2042734\ttotal: 4.8s\tremaining: 960ms\n",
      "250:\tlearn: 3.2031857\ttotal: 4.82s\tremaining: 941ms\n",
      "251:\tlearn: 3.2024459\ttotal: 4.84s\tremaining: 922ms\n",
      "252:\tlearn: 3.2020714\ttotal: 4.86s\tremaining: 903ms\n",
      "253:\tlearn: 3.2009110\ttotal: 4.88s\tremaining: 884ms\n",
      "254:\tlearn: 3.2004669\ttotal: 4.9s\tremaining: 864ms\n",
      "255:\tlearn: 3.1990480\ttotal: 4.92s\tremaining: 845ms\n",
      "256:\tlearn: 3.1975878\ttotal: 4.94s\tremaining: 826ms\n",
      "257:\tlearn: 3.1971440\ttotal: 4.96s\tremaining: 807ms\n",
      "258:\tlearn: 3.1967110\ttotal: 4.98s\tremaining: 788ms\n",
      "259:\tlearn: 3.1958578\ttotal: 5s\tremaining: 769ms\n",
      "260:\tlearn: 3.1952786\ttotal: 5.02s\tremaining: 750ms\n",
      "261:\tlearn: 3.1942817\ttotal: 5.04s\tremaining: 730ms\n",
      "262:\tlearn: 3.1933476\ttotal: 5.05s\tremaining: 711ms\n",
      "263:\tlearn: 3.1930601\ttotal: 5.08s\tremaining: 692ms\n",
      "264:\tlearn: 3.1926858\ttotal: 5.09s\tremaining: 672ms\n",
      "265:\tlearn: 3.1921677\ttotal: 5.11s\tremaining: 653ms\n",
      "266:\tlearn: 3.1914680\ttotal: 5.13s\tremaining: 634ms\n",
      "267:\tlearn: 3.1907921\ttotal: 5.15s\tremaining: 615ms\n",
      "268:\tlearn: 3.1901074\ttotal: 5.17s\tremaining: 595ms\n",
      "269:\tlearn: 3.1895983\ttotal: 5.19s\tremaining: 576ms\n",
      "270:\tlearn: 3.1889464\ttotal: 5.21s\tremaining: 557ms\n",
      "271:\tlearn: 3.1878307\ttotal: 5.23s\tremaining: 538ms\n",
      "272:\tlearn: 3.1873576\ttotal: 5.25s\tremaining: 519ms\n",
      "273:\tlearn: 3.1866981\ttotal: 5.27s\tremaining: 500ms\n",
      "274:\tlearn: 3.1861500\ttotal: 5.29s\tremaining: 481ms\n",
      "275:\tlearn: 3.1849705\ttotal: 5.31s\tremaining: 462ms\n",
      "276:\tlearn: 3.1843426\ttotal: 5.33s\tremaining: 443ms\n",
      "277:\tlearn: 3.1828483\ttotal: 5.36s\tremaining: 424ms\n",
      "278:\tlearn: 3.1823661\ttotal: 5.38s\tremaining: 405ms\n",
      "279:\tlearn: 3.1821312\ttotal: 5.4s\tremaining: 386ms\n",
      "280:\tlearn: 3.1811669\ttotal: 5.42s\tremaining: 367ms\n",
      "281:\tlearn: 3.1805864\ttotal: 5.44s\tremaining: 347ms\n",
      "282:\tlearn: 3.1799624\ttotal: 5.46s\tremaining: 328ms\n",
      "283:\tlearn: 3.1796475\ttotal: 5.48s\tremaining: 309ms\n",
      "284:\tlearn: 3.1793069\ttotal: 5.5s\tremaining: 290ms\n",
      "285:\tlearn: 3.1784343\ttotal: 5.52s\tremaining: 270ms\n",
      "286:\tlearn: 3.1765332\ttotal: 5.54s\tremaining: 251ms\n",
      "287:\tlearn: 3.1759090\ttotal: 5.56s\tremaining: 232ms\n",
      "288:\tlearn: 3.1746639\ttotal: 5.58s\tremaining: 212ms\n",
      "289:\tlearn: 3.1729251\ttotal: 5.6s\tremaining: 193ms\n",
      "290:\tlearn: 3.1720439\ttotal: 5.62s\tremaining: 174ms\n",
      "291:\tlearn: 3.1713842\ttotal: 5.63s\tremaining: 154ms\n",
      "292:\tlearn: 3.1707242\ttotal: 5.65s\tremaining: 135ms\n",
      "293:\tlearn: 3.1692864\ttotal: 5.67s\tremaining: 116ms\n",
      "294:\tlearn: 3.1688708\ttotal: 5.69s\tremaining: 96.5ms\n",
      "295:\tlearn: 3.1671989\ttotal: 5.71s\tremaining: 77.2ms\n",
      "296:\tlearn: 3.1662641\ttotal: 5.73s\tremaining: 57.9ms\n",
      "297:\tlearn: 3.1659911\ttotal: 5.75s\tremaining: 38.6ms\n",
      "298:\tlearn: 3.1635650\ttotal: 5.77s\tremaining: 19.3ms\n",
      "299:\tlearn: 3.1619324\ttotal: 5.79s\tremaining: 0us\n"
     ]
    }
   ],
   "source": [
    "model = CatBoostRegressor(iterations=300,\n",
    "                          loss_function=f'MultiQuantile:alpha={quantile_str}')\n",
    "\n",
    "model.fit(x_train.reshape(-1, 1), y_train)\n",
    "\n",
    "preds = model.predict(x_test.reshape(-1, 1))\n",
    "preds = pd.DataFrame(preds, columns=[f'pred_{q}' for q in quantiles])"
   ]
  },
  {
   "cell_type": "code",
   "execution_count": 14,
   "metadata": {
    "ExecuteTime": {
     "end_time": "2023-02-25T09:15:03.437252Z",
     "start_time": "2023-02-25T09:15:03.194196Z"
    }
   },
   "outputs": [
    {
     "data": {
      "text/plain": [
       "<matplotlib.legend.Legend at 0x7feb65827730>"
      ]
     },
     "execution_count": 14,
     "metadata": {},
     "output_type": "execute_result"
    },
    {
     "data": {
      "image/png": "[encoded data removed]",
      "text/plain": [
       "<Figure size 720x432 with 1 Axes>"
      ]
     },
     "metadata": {},
     "output_type": "display_data"
    }
   ],
   "source": [
    "fig, ax = plt.subplots(figsize=(10, 6))\n",
    "ax.scatter(x_test, y_test)\n",
    "\n",
    "for col in ['pred_0.05', 'pred_0.5', 'pred_0.95']:\n",
    "\n",
    "    quantile = int(float(col.split('_')[-1])*100)\n",
    "    label_name = f'Predicted Quantile {quantile}'\n",
    "    ax.scatter(x_test.reshape(-1, 1), preds[col], alpha=0.50, label=label_name)\n",
    "\n",
    "ax.set_xlabel('x')\n",
    "ax.set_ylabel('y')\n",
    "ax.set_title('Testing Data for Example 2 with Predicted Quantiles')\n",
    "ax.legend()"
   ]
  },
  {
   "cell_type": "markdown",
   "metadata": {},
   "source": [
    "    \n",
    "- Upon visual inspection, the model has characterized this non-linear, heteroscedastic relationship well. Notice how, near x = 0, the three predicted quantiles converge towards a single value.\n",
    "- This is because the region near x = 0 has almost no noise — any model that correctly predicts the conditional probability distribution in this region should predict a small variance. Conversely, when x is between 7.5 and 10.0, the predicted quantiles are much further apart because of the inherent noise in the region. 90% coverage can be computed as before:\n",
    "    \n",
""   ]
  },
  {
   "cell_type": "code",
   "execution_count": 15,
   "metadata": {
    "ExecuteTime": {
     "end_time": "2023-02-25T09:16:12.070894Z",
     "start_time": "2023-02-25T09:16:12.067094Z"
    }
   },
   "outputs": [
    {
     "name": "stdout",
     "output_type": "stream",
     "text": [
      "89.66876971608832\n"
     ]
    }
   ],
   "source": [
    "coverage_90 = np.mean((y_test <= preds['pred_0.95']) & (\n",
    "    y_test >= preds['pred_0.05']))*100\n",
    "print(coverage_90)"
   ]
  },
  {
   "cell_type": "markdown",
   "metadata": {},
   "source": [
    "# Conclusions\n",
    "<hr style=\"border:2px solid black\"> </hr>"
   ]
  },
  {
   "cell_type": "markdown",
   "metadata": {},
   "source": [
    "    \n",
    "- It’s important to note that quantile regression makes no statistical or algorithmic guarantees of convergence, and the performance of these models will vary depending on the nature of the learning problem. \n",
    "\n",
""   ]
  },
  {
   "cell_type": "markdown",
   "metadata": {},
   "source": [
    "# References\n",
    "<hr style=\"border:2px solid black\"> </hr>"
   ]
  },
  {
   "cell_type": "markdown",
   "metadata": {},
   "source": [
    "\n",
    "- https://towardsdatascience.com/a-new-way-to-predict-probability-distributions-e7258349f464\n",
    "- https://catboost.ai/en/docs/concepts/loss-functions-regression#MultiQuantile\n",
    "- https://brendanhasz.github.io/2018/12/15/quantile-regression.html\n",
    "    \n",
""   ]
  },
  {
   "cell_type": "markdown",
   "metadata": {
    "ExecuteTime": {
     "end_time": "2023-02-25T08:43:54.888715Z",
     "start_time": "2023-02-25T08:43:54.885521Z"
    }
   },
   "source": [
    "# Requirements\n",
    "<hr style=\"border:2px solid black\"> </hr>"
   ]
  },
  {
   "cell_type": "code",
   "execution_count": 7,
   "metadata": {
    "ExecuteTime": {
     "end_time": "2023-02-25T08:54:09.070891Z",
     "start_time": "2023-02-25T08:54:09.039262Z"
    }
   },
   "outputs": [
    {
     "name": "stdout",
     "output_type": "stream",
     "text": [
      "Python implementation: CPython\n",
      "Python version       : 3.9.7\n",
      "IPython version      : 7.29.0\n",
      "\n",
      "matplotlib: 3.5.1\n",
      "autopep8  : 1.6.0\n",
      "numpy     : 1.21.6\n",
      "seaborn   : 0.11.2\n",
      "json      : 2.0.9\n",
      "catboost  : 1.0.4\n",
      "pandas    : 1.5.3\n",
      "\n"
     ]
    }
   ],
   "source": [
    "%load_ext watermark\n",
    "%watermark -v -iv"
   ]
  },
  {
   "cell_type": "code",
   "execution_count": null,
   "metadata": {},
   "outputs": [],
   "source": []
  }
 ],
 "metadata": {
  "hide_input": false,
  "kernelspec": {
   "display_name": "trainingAI",
   "language": "python",
   "name": "trainingai"
  },
  "language_info": {
   "codemirror_mode": {
    "name": "ipython",
    "version": 3
   },
   "file_extension": ".py",
   "mimetype": "text/x-python",
   "name": "python",
   "nbconvert_exporter": "python",
   "pygments_lexer": "ipython3",
   "version": "3.9.7"
  },
  "toc": {
   "base_numbering": 1,
   "nav_menu": {},
   "number_sections": true,
   "sideBar": true,
   "skip_h1_title": false,
   "title_cell": "Table of Contents",
   "title_sidebar": "Contents",
   "toc_cell": true,
   "toc_position": {
    "height": "calc(100% - 180px)",
    "left": "10px",
    "top": "150px",
    "width": "274.75px"
   },
   "toc_section_display": true,
   "toc_window_display": true
  },
  "varInspector": {
   "cols": {
    "lenName": 16,
    "lenType": 16,
    "lenVar": 40
   },
   "kernels_config": {
    "python": {
     "delete_cmd_postfix": "",
     "delete_cmd_prefix": "del ",
     "library": "var_list.py",
     "varRefreshCmd": "print(var_dic_list())"
    },
    "r": {
     "delete_cmd_postfix": ") ",
     "delete_cmd_prefix": "rm(",
     "library": "var_list.r",
     "varRefreshCmd": "cat(var_dic_list()) "
    }
   },
   "types_to_exclude": [
    "module",
    "function",
    "builtin_function_or_method",
    "instance",
    "_Feature"
   ],
   "window_display": false
  }
 },
 "nbformat": 4,
 "nbformat_minor": 2
}
