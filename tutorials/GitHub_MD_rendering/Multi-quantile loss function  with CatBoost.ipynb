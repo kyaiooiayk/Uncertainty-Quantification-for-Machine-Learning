{
 "cells": [
  {
   "cell_type": "markdown",
   "metadata": {
    "toc": true
   },
   "source": [
    "<h1>Table of Contents<span class=\"tocSkip\"></span></h1>\n",
""   ]
  },
  {
   "cell_type": "markdown",
   "metadata": {},
   "source": [
    "# Introduction\n",
    "<hr style=\"border:2px solid black\"> </hr>"
   ]
  },
  {
   "cell_type": "markdown",
   "metadata": {},
   "source": [
    "\n",
    "**What?** Multi-quantile loss with CatBoost\n",
    "\n",
""   ]
  },
  {
   "cell_type": "markdown",
   "metadata": {},
   "source": [
    "# Imports\n",
    "<hr style=\"border:2px solid black\"> </hr>"
   ]
  },
  {
   "cell_type": "code",
   "execution_count": 1,
   "metadata": {
    "ExecuteTime": {
     "end_time": "2023-02-25T09:20:27.128748Z",
     "start_time": "2023-02-25T09:20:25.640463Z"
    }
   },
   "outputs": [],
   "source": [
    "import numpy as np\n",
    "import pandas as pd\n",
    "import matplotlib.pyplot as plt\n",
    "import seaborn as sns\n",
    "from catboost import CatBoostRegressor\n",
    "sns.set()"
   ]
  },
  {
   "cell_type": "code",
   "execution_count": 2,
   "metadata": {
    "ExecuteTime": {
     "end_time": "2023-02-25T09:20:27.135515Z",
     "start_time": "2023-02-25T09:20:27.130650Z"
    }
   },
   "outputs": [
    {
     "data": {
      "text/plain": [
       "'1.1.1'"
      ]
     },
     "execution_count": 2,
     "metadata": {},
     "output_type": "execute_result"
    }
   ],
   "source": [
    "import catboost\n",
    "catboost.__version__"
   ]
  },
  {
   "cell_type": "markdown",
   "metadata": {},
   "source": [
    "# Classification vs. regression\n",
    "<hr style=\"border:2px solid black\"> </hr>"
   ]
  },
  {
   "cell_type": "markdown",
   "metadata": {},
   "source": [
    "\n",
    "- While many classification models, particularly calibrated models, come with uncertainty quantification by predicting a probability distribution over target classes, quantifying uncertainty in regression tasks is much more nuanced.\n",
    "\n",
""   ]
  },
  {
   "cell_type": "markdown",
   "metadata": {},
   "source": [
    "# Multi-quantile loss function \n",
    "<hr style=\"border:2px solid black\"> </hr>"
   ]
  },
  {
   "cell_type": "markdown",
   "metadata": {},
   "source": [
    "\n",
    "- **Classical quantile regression**: the main disadvantage of quantile regression was that one model had to be trained per predicted quantile. For instance, in order to predict the 10th, 50th, and 90th quantiles of a target distribution, three independent models would need to be trained. \n",
    "- Catboost has since addressed this issue with the **multi-quantile loss function** — a loss function that enables a single model to predict an arbitrary number of quantiles. Catboost now extends this idea by allowing the base decision trees to output multiple quantiles per node. This allows a single model to predict multiple quantiles by minimizing a new single loss function.\n",
    "    \n",
""   ]
  },
  {
   "cell_type": "markdown",
   "metadata": {},
   "source": [
    "# Simple Linear Regression\n",
    "<hr style=\"border:2px solid black\"> </hr>"
   ]
  },
  {
   "cell_type": "code",
   "execution_count": 3,
   "metadata": {
    "ExecuteTime": {
     "end_time": "2023-02-25T09:20:27.141683Z",
     "start_time": "2023-02-25T09:20:27.138039Z"
    }
   },
   "outputs": [],
   "source": [
    "\n",
    "# Number of training and testing examples\n",
    "n = 1000\n",
    "\n",
    "# Generate random x values between 0 and 1\n",
    "x_train = np.random.rand(n)\n",
    "x_test = np.random.rand(n)\n",
    "\n",
    "# Generate random noise for the target\n",
    "noise_train = np.random.normal(0, 0.3, n)\n",
    "noise_test = np.random.normal(0, 0.3, n)\n",
    "\n",
    "# Set the slope and y-intercept of the line\n",
    "a, b = 2, 3\n",
    "\n",
    "# Generate y values according to the equation y = ax + b + noise\n",
    "y_train = a * x_train + b + noise_train\n",
    "y_test = a * x_test + b + noise_test"
   ]
  },
  {
   "cell_type": "code",
   "execution_count": 4,
   "metadata": {
    "ExecuteTime": {
     "end_time": "2023-02-25T09:20:29.134409Z",
     "start_time": "2023-02-25T09:20:27.143721Z"
    },
    "scrolled": true
   },
   "outputs": [
    {
     "name": "stdout",
     "output_type": "stream",
     "text": [
      "0:\tlearn: 0.1822244\ttotal: 90.1ms\tremaining: 8.92s\n",
      "1:\tlearn: 0.1781949\ttotal: 113ms\tremaining: 5.53s\n",
      "2:\tlearn: 0.1742768\ttotal: 133ms\tremaining: 4.29s\n",
      "3:\tlearn: 0.1705530\ttotal: 151ms\tremaining: 3.63s\n",
      "4:\tlearn: 0.1668017\ttotal: 170ms\tremaining: 3.22s\n",
      "5:\tlearn: 0.1634159\ttotal: 189ms\tremaining: 2.97s\n",
      "6:\tlearn: 0.1601224\ttotal: 209ms\tremaining: 2.78s\n",
      "7:\tlearn: 0.1568451\ttotal: 228ms\tremaining: 2.63s\n",
      "8:\tlearn: 0.1535948\ttotal: 247ms\tremaining: 2.49s\n",
      "9:\tlearn: 0.1505827\ttotal: 265ms\tremaining: 2.38s\n",
      "10:\tlearn: 0.1476290\ttotal: 284ms\tremaining: 2.29s\n",
      "11:\tlearn: 0.1448954\ttotal: 302ms\tremaining: 2.22s\n",
      "12:\tlearn: 0.1422563\ttotal: 321ms\tremaining: 2.15s\n",
      "13:\tlearn: 0.1396460\ttotal: 340ms\tremaining: 2.09s\n",
      "14:\tlearn: 0.1371478\ttotal: 358ms\tremaining: 2.03s\n",
      "15:\tlearn: 0.1347768\ttotal: 376ms\tremaining: 1.97s\n",
      "16:\tlearn: 0.1325191\ttotal: 393ms\tremaining: 1.92s\n",
      "17:\tlearn: 0.1304375\ttotal: 409ms\tremaining: 1.86s\n",
      "18:\tlearn: 0.1283525\ttotal: 426ms\tremaining: 1.82s\n",
      "19:\tlearn: 0.1263576\ttotal: 443ms\tremaining: 1.77s\n",
      "20:\tlearn: 0.1244137\ttotal: 459ms\tremaining: 1.73s\n",
      "21:\tlearn: 0.1226174\ttotal: 476ms\tremaining: 1.69s\n",
      "22:\tlearn: 0.1208294\ttotal: 493ms\tremaining: 1.65s\n",
      "23:\tlearn: 0.1191051\ttotal: 510ms\tremaining: 1.62s\n",
      "24:\tlearn: 0.1174959\ttotal: 529ms\tremaining: 1.59s\n",
      "25:\tlearn: 0.1159181\ttotal: 546ms\tremaining: 1.55s\n",
      "26:\tlearn: 0.1144740\ttotal: 563ms\tremaining: 1.52s\n",
      "27:\tlearn: 0.1130649\ttotal: 579ms\tremaining: 1.49s\n",
      "28:\tlearn: 0.1117133\ttotal: 595ms\tremaining: 1.46s\n",
      "29:\tlearn: 0.1104249\ttotal: 612ms\tremaining: 1.43s\n",
      "30:\tlearn: 0.1091998\ttotal: 629ms\tremaining: 1.4s\n",
      "31:\tlearn: 0.1080135\ttotal: 648ms\tremaining: 1.38s\n",
      "32:\tlearn: 0.1069118\ttotal: 667ms\tremaining: 1.35s\n",
      "33:\tlearn: 0.1058798\ttotal: 685ms\tremaining: 1.33s\n",
      "34:\tlearn: 0.1048127\ttotal: 704ms\tremaining: 1.31s\n",
      "35:\tlearn: 0.1038176\ttotal: 723ms\tremaining: 1.29s\n",
      "36:\tlearn: 0.1028711\ttotal: 744ms\tremaining: 1.27s\n",
      "37:\tlearn: 0.1019549\ttotal: 764ms\tremaining: 1.25s\n",
      "38:\tlearn: 0.1011393\ttotal: 784ms\tremaining: 1.23s\n",
      "39:\tlearn: 0.1003029\ttotal: 803ms\tremaining: 1.2s\n",
      "40:\tlearn: 0.0995168\ttotal: 821ms\tremaining: 1.18s\n",
      "41:\tlearn: 0.0987899\ttotal: 841ms\tremaining: 1.16s\n",
      "42:\tlearn: 0.0980492\ttotal: 860ms\tremaining: 1.14s\n",
      "43:\tlearn: 0.0973786\ttotal: 879ms\tremaining: 1.12s\n",
      "44:\tlearn: 0.0967497\ttotal: 897ms\tremaining: 1.1s\n",
      "45:\tlearn: 0.0961433\ttotal: 915ms\tremaining: 1.07s\n",
      "46:\tlearn: 0.0955740\ttotal: 935ms\tremaining: 1.05s\n",
      "47:\tlearn: 0.0950014\ttotal: 955ms\tremaining: 1.03s\n",
      "48:\tlearn: 0.0944534\ttotal: 973ms\tremaining: 1.01s\n",
      "49:\tlearn: 0.0939407\ttotal: 992ms\tremaining: 992ms\n",
      "50:\tlearn: 0.0934464\ttotal: 1.01s\tremaining: 971ms\n",
      "51:\tlearn: 0.0929934\ttotal: 1.03s\tremaining: 950ms\n",
      "52:\tlearn: 0.0925846\ttotal: 1.04s\tremaining: 922ms\n",
      "53:\tlearn: 0.0921648\ttotal: 1.06s\tremaining: 901ms\n",
      "54:\tlearn: 0.0917743\ttotal: 1.08s\tremaining: 881ms\n",
      "55:\tlearn: 0.0913773\ttotal: 1.1s\tremaining: 861ms\n",
      "56:\tlearn: 0.0910028\ttotal: 1.11s\tremaining: 841ms\n",
      "57:\tlearn: 0.0906616\ttotal: 1.13s\tremaining: 820ms\n",
      "58:\tlearn: 0.0903286\ttotal: 1.15s\tremaining: 801ms\n",
      "59:\tlearn: 0.0899993\ttotal: 1.17s\tremaining: 781ms\n",
      "60:\tlearn: 0.0897019\ttotal: 1.19s\tremaining: 761ms\n",
      "61:\tlearn: 0.0893926\ttotal: 1.21s\tremaining: 742ms\n",
      "62:\tlearn: 0.0891208\ttotal: 1.23s\tremaining: 721ms\n",
      "63:\tlearn: 0.0888742\ttotal: 1.25s\tremaining: 701ms\n",
      "64:\tlearn: 0.0886461\ttotal: 1.26s\tremaining: 681ms\n",
      "65:\tlearn: 0.0884101\ttotal: 1.28s\tremaining: 661ms\n",
      "66:\tlearn: 0.0881902\ttotal: 1.3s\tremaining: 641ms\n",
      "67:\tlearn: 0.0879703\ttotal: 1.32s\tremaining: 621ms\n",
      "68:\tlearn: 0.0877847\ttotal: 1.34s\tremaining: 602ms\n",
      "69:\tlearn: 0.0876154\ttotal: 1.35s\tremaining: 580ms\n",
      "70:\tlearn: 0.0874337\ttotal: 1.39s\tremaining: 566ms\n",
      "71:\tlearn: 0.0872681\ttotal: 1.41s\tremaining: 548ms\n",
      "72:\tlearn: 0.0871090\ttotal: 1.43s\tremaining: 529ms\n",
      "73:\tlearn: 0.0869423\ttotal: 1.45s\tremaining: 510ms\n",
      "74:\tlearn: 0.0867895\ttotal: 1.47s\tremaining: 490ms\n",
      "75:\tlearn: 0.0866627\ttotal: 1.49s\tremaining: 470ms\n",
      "76:\tlearn: 0.0865266\ttotal: 1.51s\tremaining: 450ms\n",
      "77:\tlearn: 0.0864061\ttotal: 1.52s\tremaining: 430ms\n",
      "78:\tlearn: 0.0862960\ttotal: 1.54s\tremaining: 410ms\n",
      "79:\tlearn: 0.0861785\ttotal: 1.56s\tremaining: 390ms\n",
      "80:\tlearn: 0.0860753\ttotal: 1.58s\tremaining: 371ms\n",
      "81:\tlearn: 0.0859629\ttotal: 1.6s\tremaining: 351ms\n",
      "82:\tlearn: 0.0858629\ttotal: 1.61s\tremaining: 331ms\n",
      "83:\tlearn: 0.0857612\ttotal: 1.63s\tremaining: 311ms\n",
      "84:\tlearn: 0.0856661\ttotal: 1.65s\tremaining: 292ms\n",
      "85:\tlearn: 0.0855739\ttotal: 1.67s\tremaining: 272ms\n",
      "86:\tlearn: 0.0854885\ttotal: 1.69s\tremaining: 253ms\n",
      "87:\tlearn: 0.0854131\ttotal: 1.71s\tremaining: 233ms\n",
      "88:\tlearn: 0.0853425\ttotal: 1.73s\tremaining: 214ms\n",
      "89:\tlearn: 0.0852700\ttotal: 1.75s\tremaining: 194ms\n",
      "90:\tlearn: 0.0851990\ttotal: 1.76s\tremaining: 175ms\n",
      "91:\tlearn: 0.0851354\ttotal: 1.78s\tremaining: 155ms\n",
      "92:\tlearn: 0.0850736\ttotal: 1.8s\tremaining: 136ms\n",
      "93:\tlearn: 0.0850195\ttotal: 1.82s\tremaining: 116ms\n",
      "94:\tlearn: 0.0849666\ttotal: 1.84s\tremaining: 97ms\n",
      "95:\tlearn: 0.0849173\ttotal: 1.86s\tremaining: 77.6ms\n",
      "96:\tlearn: 0.0848678\ttotal: 1.88s\tremaining: 58.2ms\n",
      "97:\tlearn: 0.0848266\ttotal: 1.9s\tremaining: 38.8ms\n",
      "98:\tlearn: 0.0847733\ttotal: 1.92s\tremaining: 19.4ms\n",
      "99:\tlearn: 0.0847310\ttotal: 1.94s\tremaining: 0us\n"
     ]
    },
    {
     "data": {
      "text/plain": [
       "<catboost.core.CatBoostRegressor at 0x7feb3d312e80>"
      ]
     },
     "execution_count": 4,
     "metadata": {},
     "output_type": "execute_result"
    }
   ],
   "source": [
    "# Store quantiles 0.01 through 0.99 in a list\n",
    "quantiles = [q/100 for q in range(1, 100)]\n",
    "\n",
    "# Format the quantiles as a string for Catboost\n",
    "quantile_str = str(quantiles).replace('[','').replace(']','')\n",
    "\n",
    "# Fit the multi quantile model\n",
    "model = CatBoostRegressor(iterations=100,\n",
    "                          loss_function=f'MultiQuantile:alpha={quantile_str}')\n",
    "\n",
    "model.fit(x_train.reshape(-1,1), y_train)"
   ]
  },
  {
   "cell_type": "code",
   "execution_count": 5,
   "metadata": {
    "ExecuteTime": {
     "end_time": "2023-02-25T09:20:29.155217Z",
     "start_time": "2023-02-25T09:20:29.136437Z"
    }
   },
   "outputs": [],
   "source": [
    "# Make predictions on the test set\n",
    "preds = model.predict(x_test.reshape(-1, 1))\n",
    "preds = pd.DataFrame(preds, columns=[f'pred_{q}' for q in quantiles])"
   ]
  },
  {
   "cell_type": "code",
   "execution_count": 6,
   "metadata": {
    "ExecuteTime": {
     "end_time": "2023-02-25T09:20:29.180055Z",
     "start_time": "2023-02-25T09:20:29.157208Z"
    }
   },
   "outputs": [
    {
     "data": {
      "text/html": [
       "<style scoped>\n",
       "    .dataframe tbody tr th:only-of-type {\n",
       "        vertical-align: middle;\n",
       "    }\n",
       "\n",
       "    .dataframe tbody tr th {\n",
       "        vertical-align: top;\n",
       "    }\n",
       "\n",
       "    .dataframe thead th {\n",
       "        text-align: right;\n",
       "    }\n",
       "</style>\n",
       "<table border=\"1\" class=\"dataframe\">\n",
       "  <thead>\n",
       "    <tr style=\"text-align: right;\">\n",
       "      <th></th>\n",
       "      <th>pred_0.01</th>\n",
       "      <th>pred_0.02</th>\n",
       "      <th>pred_0.03</th>\n",
       "      <th>pred_0.04</th>\n",
       "      <th>pred_0.05</th>\n",
       "      <th>pred_0.06</th>\n",
       "      <th>pred_0.07</th>\n",
       "      <th>pred_0.08</th>\n",
       "      <th>pred_0.09</th>\n",
       "      <th>pred_0.1</th>\n",
       "      <th>...</th>\n",
       "      <th>pred_0.9</th>\n",
       "      <th>pred_0.91</th>\n",
       "      <th>pred_0.92</th>\n",
       "      <th>pred_0.93</th>\n",
       "      <th>pred_0.94</th>\n",
       "      <th>pred_0.95</th>\n",
       "      <th>pred_0.96</th>\n",
       "      <th>pred_0.97</th>\n",
       "      <th>pred_0.98</th>\n",
       "      <th>pred_0.99</th>\n",
       "    </tr>\n",
       "  </thead>\n",
       "  <tbody>\n",
       "    <tr>\n",
       "      <th>0</th>\n",
       "      <td>2.780810</td>\n",
       "      <td>2.919800</td>\n",
       "      <td>3.030097</td>\n",
       "      <td>3.077203</td>\n",
       "      <td>3.122938</td>\n",
       "      <td>3.142582</td>\n",
       "      <td>3.159697</td>\n",
       "      <td>3.174949</td>\n",
       "      <td>3.186437</td>\n",
       "      <td>3.208742</td>\n",
       "      <td>...</td>\n",
       "      <td>4.016406</td>\n",
       "      <td>4.038276</td>\n",
       "      <td>4.068289</td>\n",
       "      <td>4.104559</td>\n",
       "      <td>4.141282</td>\n",
       "      <td>4.159329</td>\n",
       "      <td>4.176311</td>\n",
       "      <td>4.218180</td>\n",
       "      <td>4.284007</td>\n",
       "      <td>4.323767</td>\n",
       "    </tr>\n",
       "    <tr>\n",
       "      <th>1</th>\n",
       "      <td>2.961797</td>\n",
       "      <td>3.081225</td>\n",
       "      <td>3.154090</td>\n",
       "      <td>3.184252</td>\n",
       "      <td>3.208173</td>\n",
       "      <td>3.226239</td>\n",
       "      <td>3.241753</td>\n",
       "      <td>3.249546</td>\n",
       "      <td>3.266106</td>\n",
       "      <td>3.291142</td>\n",
       "      <td>...</td>\n",
       "      <td>4.095972</td>\n",
       "      <td>4.120077</td>\n",
       "      <td>4.152393</td>\n",
       "      <td>4.194770</td>\n",
       "      <td>4.224691</td>\n",
       "      <td>4.241023</td>\n",
       "      <td>4.254298</td>\n",
       "      <td>4.289660</td>\n",
       "      <td>4.337686</td>\n",
       "      <td>4.401055</td>\n",
       "    </tr>\n",
       "    <tr>\n",
       "      <th>2</th>\n",
       "      <td>2.659465</td>\n",
       "      <td>2.749874</td>\n",
       "      <td>2.810904</td>\n",
       "      <td>2.852310</td>\n",
       "      <td>2.901965</td>\n",
       "      <td>2.938069</td>\n",
       "      <td>2.956318</td>\n",
       "      <td>2.966792</td>\n",
       "      <td>2.979737</td>\n",
       "      <td>2.990213</td>\n",
       "      <td>...</td>\n",
       "      <td>3.756001</td>\n",
       "      <td>3.768349</td>\n",
       "      <td>3.788441</td>\n",
       "      <td>3.808197</td>\n",
       "      <td>3.834223</td>\n",
       "      <td>3.858877</td>\n",
       "      <td>3.880076</td>\n",
       "      <td>3.898736</td>\n",
       "      <td>3.949464</td>\n",
       "      <td>4.008651</td>\n",
       "    </tr>\n",
       "    <tr>\n",
       "      <th>3</th>\n",
       "      <td>2.499942</td>\n",
       "      <td>2.599218</td>\n",
       "      <td>2.652371</td>\n",
       "      <td>2.686339</td>\n",
       "      <td>2.728708</td>\n",
       "      <td>2.763536</td>\n",
       "      <td>2.785316</td>\n",
       "      <td>2.806392</td>\n",
       "      <td>2.822385</td>\n",
       "      <td>2.837185</td>\n",
       "      <td>...</td>\n",
       "      <td>3.612766</td>\n",
       "      <td>3.626786</td>\n",
       "      <td>3.642999</td>\n",
       "      <td>3.676506</td>\n",
       "      <td>3.709685</td>\n",
       "      <td>3.742884</td>\n",
       "      <td>3.753743</td>\n",
       "      <td>3.768540</td>\n",
       "      <td>3.802039</td>\n",
       "      <td>3.867699</td>\n",
       "    </tr>\n",
       "    <tr>\n",
       "      <th>4</th>\n",
       "      <td>2.747039</td>\n",
       "      <td>2.879160</td>\n",
       "      <td>2.976875</td>\n",
       "      <td>3.029606</td>\n",
       "      <td>3.086291</td>\n",
       "      <td>3.103335</td>\n",
       "      <td>3.120486</td>\n",
       "      <td>3.128556</td>\n",
       "      <td>3.140183</td>\n",
       "      <td>3.157544</td>\n",
       "      <td>...</td>\n",
       "      <td>3.893958</td>\n",
       "      <td>3.912940</td>\n",
       "      <td>3.934129</td>\n",
       "      <td>3.967662</td>\n",
       "      <td>4.014142</td>\n",
       "      <td>4.040067</td>\n",
       "      <td>4.081890</td>\n",
       "      <td>4.135766</td>\n",
       "      <td>4.195081</td>\n",
       "      <td>4.241734</td>\n",
       "    </tr>\n",
       "    <tr>\n",
       "      <th>...</th>\n",
       "      <td>...</td>\n",
       "      <td>...</td>\n",
       "      <td>...</td>\n",
       "      <td>...</td>\n",
       "      <td>...</td>\n",
       "      <td>...</td>\n",
       "      <td>...</td>\n",
       "      <td>...</td>\n",
       "      <td>...</td>\n",
       "      <td>...</td>\n",
       "      <td>...</td>\n",
       "      <td>...</td>\n",
       "      <td>...</td>\n",
       "      <td>...</td>\n",
       "      <td>...</td>\n",
       "      <td>...</td>\n",
       "      <td>...</td>\n",
       "      <td>...</td>\n",
       "      <td>...</td>\n",
       "      <td>...</td>\n",
       "      <td>...</td>\n",
       "    </tr>\n",
       "    <tr>\n",
       "      <th>995</th>\n",
       "      <td>3.409629</td>\n",
       "      <td>3.454340</td>\n",
       "      <td>3.498805</td>\n",
       "      <td>3.532311</td>\n",
       "      <td>3.576726</td>\n",
       "      <td>3.611444</td>\n",
       "      <td>3.635553</td>\n",
       "      <td>3.658541</td>\n",
       "      <td>3.694656</td>\n",
       "      <td>3.718136</td>\n",
       "      <td>...</td>\n",
       "      <td>4.675914</td>\n",
       "      <td>4.710945</td>\n",
       "      <td>4.735662</td>\n",
       "      <td>4.765018</td>\n",
       "      <td>4.786650</td>\n",
       "      <td>4.811913</td>\n",
       "      <td>4.844448</td>\n",
       "      <td>4.877483</td>\n",
       "      <td>4.930702</td>\n",
       "      <td>4.981463</td>\n",
       "    </tr>\n",
       "    <tr>\n",
       "      <th>996</th>\n",
       "      <td>2.757188</td>\n",
       "      <td>2.891967</td>\n",
       "      <td>2.999985</td>\n",
       "      <td>3.048702</td>\n",
       "      <td>3.095930</td>\n",
       "      <td>3.118739</td>\n",
       "      <td>3.134283</td>\n",
       "      <td>3.144274</td>\n",
       "      <td>3.168619</td>\n",
       "      <td>3.187823</td>\n",
       "      <td>...</td>\n",
       "      <td>3.977869</td>\n",
       "      <td>3.996933</td>\n",
       "      <td>4.027324</td>\n",
       "      <td>4.061830</td>\n",
       "      <td>4.098242</td>\n",
       "      <td>4.116658</td>\n",
       "      <td>4.133683</td>\n",
       "      <td>4.177272</td>\n",
       "      <td>4.246289</td>\n",
       "      <td>4.283282</td>\n",
       "    </tr>\n",
       "    <tr>\n",
       "      <th>997</th>\n",
       "      <td>2.515528</td>\n",
       "      <td>2.598464</td>\n",
       "      <td>2.648597</td>\n",
       "      <td>2.687875</td>\n",
       "      <td>2.723982</td>\n",
       "      <td>2.755667</td>\n",
       "      <td>2.774702</td>\n",
       "      <td>2.796567</td>\n",
       "      <td>2.813600</td>\n",
       "      <td>2.825023</td>\n",
       "      <td>...</td>\n",
       "      <td>3.618476</td>\n",
       "      <td>3.630366</td>\n",
       "      <td>3.645614</td>\n",
       "      <td>3.683496</td>\n",
       "      <td>3.716825</td>\n",
       "      <td>3.743596</td>\n",
       "      <td>3.753037</td>\n",
       "      <td>3.776225</td>\n",
       "      <td>3.810133</td>\n",
       "      <td>3.871436</td>\n",
       "    </tr>\n",
       "    <tr>\n",
       "      <th>998</th>\n",
       "      <td>3.216318</td>\n",
       "      <td>3.248359</td>\n",
       "      <td>3.288155</td>\n",
       "      <td>3.320531</td>\n",
       "      <td>3.382692</td>\n",
       "      <td>3.401662</td>\n",
       "      <td>3.433818</td>\n",
       "      <td>3.452192</td>\n",
       "      <td>3.470817</td>\n",
       "      <td>3.489866</td>\n",
       "      <td>...</td>\n",
       "      <td>4.349131</td>\n",
       "      <td>4.372571</td>\n",
       "      <td>4.395261</td>\n",
       "      <td>4.415251</td>\n",
       "      <td>4.435675</td>\n",
       "      <td>4.458807</td>\n",
       "      <td>4.489172</td>\n",
       "      <td>4.539932</td>\n",
       "      <td>4.592311</td>\n",
       "      <td>4.647200</td>\n",
       "    </tr>\n",
       "    <tr>\n",
       "      <th>999</th>\n",
       "      <td>3.884463</td>\n",
       "      <td>3.983900</td>\n",
       "      <td>4.047705</td>\n",
       "      <td>4.089756</td>\n",
       "      <td>4.116106</td>\n",
       "      <td>4.144985</td>\n",
       "      <td>4.172184</td>\n",
       "      <td>4.192964</td>\n",
       "      <td>4.214496</td>\n",
       "      <td>4.232250</td>\n",
       "      <td>...</td>\n",
       "      <td>5.042813</td>\n",
       "      <td>5.063742</td>\n",
       "      <td>5.080694</td>\n",
       "      <td>5.102099</td>\n",
       "      <td>5.124033</td>\n",
       "      <td>5.165040</td>\n",
       "      <td>5.214721</td>\n",
       "      <td>5.255645</td>\n",
       "      <td>5.330300</td>\n",
       "      <td>5.423035</td>\n",
       "    </tr>\n",
       "  </tbody>\n",
       "</table>\n",
       "<p>1000 rows × 99 columns</p>\n",
""      ],
      "text/plain": [
       "     pred_0.01  pred_0.02  pred_0.03  pred_0.04  pred_0.05  pred_0.06  \\\n",
       "0     2.780810   2.919800   3.030097   3.077203   3.122938   3.142582   \n",
       "1     2.961797   3.081225   3.154090   3.184252   3.208173   3.226239   \n",
       "2     2.659465   2.749874   2.810904   2.852310   2.901965   2.938069   \n",
       "3     2.499942   2.599218   2.652371   2.686339   2.728708   2.763536   \n",
       "4     2.747039   2.879160   2.976875   3.029606   3.086291   3.103335   \n",
       "..         ...        ...        ...        ...        ...        ...   \n",
       "995   3.409629   3.454340   3.498805   3.532311   3.576726   3.611444   \n",
       "996   2.757188   2.891967   2.999985   3.048702   3.095930   3.118739   \n",
       "997   2.515528   2.598464   2.648597   2.687875   2.723982   2.755667   \n",
       "998   3.216318   3.248359   3.288155   3.320531   3.382692   3.401662   \n",
       "999   3.884463   3.983900   4.047705   4.089756   4.116106   4.144985   \n",
       "\n",
       "     pred_0.07  pred_0.08  pred_0.09  pred_0.1  ...  pred_0.9  pred_0.91  \\\n",
       "0     3.159697   3.174949   3.186437  3.208742  ...  4.016406   4.038276   \n",
       "1     3.241753   3.249546   3.266106  3.291142  ...  4.095972   4.120077   \n",
       "2     2.956318   2.966792   2.979737  2.990213  ...  3.756001   3.768349   \n",
       "3     2.785316   2.806392   2.822385  2.837185  ...  3.612766   3.626786   \n",
       "4     3.120486   3.128556   3.140183  3.157544  ...  3.893958   3.912940   \n",
       "..         ...        ...        ...       ...  ...       ...        ...   \n",
       "995   3.635553   3.658541   3.694656  3.718136  ...  4.675914   4.710945   \n",
       "996   3.134283   3.144274   3.168619  3.187823  ...  3.977869   3.996933   \n",
       "997   2.774702   2.796567   2.813600  2.825023  ...  3.618476   3.630366   \n",
       "998   3.433818   3.452192   3.470817  3.489866  ...  4.349131   4.372571   \n",
       "999   4.172184   4.192964   4.214496  4.232250  ...  5.042813   5.063742   \n",
       "\n",
       "     pred_0.92  pred_0.93  pred_0.94  pred_0.95  pred_0.96  pred_0.97  \\\n",
       "0     4.068289   4.104559   4.141282   4.159329   4.176311   4.218180   \n",
       "1     4.152393   4.194770   4.224691   4.241023   4.254298   4.289660   \n",
       "2     3.788441   3.808197   3.834223   3.858877   3.880076   3.898736   \n",
       "3     3.642999   3.676506   3.709685   3.742884   3.753743   3.768540   \n",
       "4     3.934129   3.967662   4.014142   4.040067   4.081890   4.135766   \n",
       "..         ...        ...        ...        ...        ...        ...   \n",
       "995   4.735662   4.765018   4.786650   4.811913   4.844448   4.877483   \n",
       "996   4.027324   4.061830   4.098242   4.116658   4.133683   4.177272   \n",
       "997   3.645614   3.683496   3.716825   3.743596   3.753037   3.776225   \n",
       "998   4.395261   4.415251   4.435675   4.458807   4.489172   4.539932   \n",
       "999   5.080694   5.102099   5.124033   5.165040   5.214721   5.255645   \n",
       "\n",
       "     pred_0.98  pred_0.99  \n",
       "0     4.284007   4.323767  \n",
       "1     4.337686   4.401055  \n",
       "2     3.949464   4.008651  \n",
       "3     3.802039   3.867699  \n",
       "4     4.195081   4.241734  \n",
       "..         ...        ...  \n",
       "995   4.930702   4.981463  \n",
       "996   4.246289   4.283282  \n",
       "997   3.810133   3.871436  \n",
       "998   4.592311   4.647200  \n",
       "999   5.330300   5.423035  \n",
       "\n",
       "[1000 rows x 99 columns]"
      ]
     },
     "execution_count": 6,
     "metadata": {},
     "output_type": "execute_result"
    }
   ],
   "source": [
    "preds"
   ]
  },
  {
   "cell_type": "code",
   "execution_count": 7,
   "metadata": {
    "ExecuteTime": {
     "end_time": "2023-02-25T09:20:29.422498Z",
     "start_time": "2023-02-25T09:20:29.182120Z"
    }
   },
   "outputs": [
    {
     "data": {
      "text/plain": [
       "<matplotlib.legend.Legend at 0x7feb3d76f5b0>"
      ]
     },
     "execution_count": 7,
     "metadata": {},
     "output_type": "execute_result"
    },
    {
     "data": {
      "image/png": "[encoded data removed]",
      "text/plain": [
       "<Figure size 720x432 with 1 Axes>"
      ]
     },
     "metadata": {},
     "output_type": "display_data"
    }
   ],
   "source": [
    "fig, ax = plt.subplots(figsize=(10, 6))\n",
    "ax.scatter(x_test, y_test)\n",
    "\n",
    "for col in ['pred_0.05', 'pred_0.5', 'pred_0.95']:\n",
    "    ax.scatter(x_test.reshape(-1,1), preds[col], alpha=0.50, label=col)\n",
    "\n",
    "ax.legend()"
   ]
  },
  {
   "cell_type": "markdown",
   "metadata": {},
   "source": [
    "# Coverage\n",
    "<hr style=\"border:2px solid black\"> </hr>"
   ]
  },
  {
   "cell_type": "markdown",
   "metadata": {},
   "source": [
    "    \n",
    "- When working with predicted quantiles, one **metric** we’re often interested in analyzing is coverage.\n",
    "- **Coverage** is the percentage of targets that fall between two desired quantiles. As an example, coverage can be computed using the 5th and 95th quantiles as follows:\n",
    "- Using the 5th and 95th quantiles, **assuming perfect calibration**, we would expect to have a coverage of 95–5 = 90%. In this example, the predicted quantiles were slightly off but still close, giving a coverage value of 91.4%.\n",
    "    \n",
""   ]
  },
  {
   "cell_type": "code",
   "execution_count": 8,
   "metadata": {
    "ExecuteTime": {
     "end_time": "2023-02-25T09:20:29.427700Z",
     "start_time": "2023-02-25T09:20:29.424244Z"
    }
   },
   "outputs": [
    {
     "name": "stdout",
     "output_type": "stream",
     "text": [
      "90.60000000000001\n"
     ]
    }
   ],
   "source": [
    "coverage_90 = np.mean((y_test <= preds['pred_0.95']) & (\n",
    "    y_test >= preds['pred_0.05']))*100\n",
    "print(coverage_90)"
   ]
  },
  {
   "cell_type": "markdown",
   "metadata": {},
   "source": [
    "# Non-Linear Regression with Variable Noise\n",
    "<hr style=\"border:2px solid black\"> </hr>"
   ]
  },
  {
   "cell_type": "code",
   "execution_count": 9,
   "metadata": {
    "ExecuteTime": {
     "end_time": "2023-02-25T09:20:29.437982Z",
     "start_time": "2023-02-25T09:20:29.431544Z"
    }
   },
   "outputs": [],
   "source": [
    "# Create regions of the domain that have variable noise\n",
    "bounds = [(-10, -8), (-5, -4), (-4, -3), (-3, -1),\n",
    "          (-1, 1), (1, 3), (3, 4), (4, 5), (8, 10)]\n",
    "scales = [18, 15, 8, 11, 1, 2, 9, 16, 19]\n",
    "\n",
    "x_train = np.array([])\n",
    "x_test = np.array([])\n",
    "y_train = np.array([])\n",
    "y_test = np.array([])\n",
    "\n",
    "for b, scale in zip(bounds, scales):\n",
    "\n",
    "    # Randomly select the number of samples in each region\n",
    "    n = np.random.randint(low=100, high=200)\n",
    "\n",
    "    # Generate values of the domain between b[0] and b[1]\n",
    "    x_curr = np.linspace(b[0], b[1], n)\n",
    "\n",
    "    # For even scales, noise comes from an exponential distribution\n",
    "    if scale % 2 == 0:\n",
    "\n",
    "        noise_train = np.random.exponential(scale=scale, size=n)\n",
    "        noise_test = np.random.exponential(scale=scale, size=n)\n",
    "\n",
    "    # For odd scales, noise comes from a normal distribution\n",
    "    else:\n",
    "\n",
    "        noise_train = np.random.normal(scale=scale, size=n)\n",
    "        noise_test = np.random.normal(scale=scale, size=n)\n",
    "\n",
    "    # Create training and testing sets\n",
    "    y_curr_train = x_curr**2 + noise_train\n",
    "    y_curr_test = x_curr**2 + noise_test\n",
    "\n",
    "    x_train = np.concatenate([x_train, x_curr])\n",
    "    x_test = np.concatenate([x_test, x_curr])\n",
    "    y_train = np.concatenate([y_train, y_curr_train])\n",
    "    y_test = np.concatenate([y_test, y_curr_test])"
   ]
  },
  {
   "cell_type": "code",
   "execution_count": 10,
   "metadata": {
    "ExecuteTime": {
     "end_time": "2023-02-25T09:20:35.235309Z",
     "start_time": "2023-02-25T09:20:29.439637Z"
    },
    "scrolled": true
   },
   "outputs": [
    {
     "name": "stdout",
     "output_type": "stream",
     "text": [
      "0:\tlearn: 9.7461651\ttotal: 27.1ms\tremaining: 8.09s\n",
      "1:\tlearn: 9.5212693\ttotal: 52.1ms\tremaining: 7.76s\n",
      "2:\tlearn: 9.2864576\ttotal: 72.1ms\tremaining: 7.14s\n",
      "3:\tlearn: 9.0819095\ttotal: 92ms\tremaining: 6.81s\n",
      "4:\tlearn: 8.8724206\ttotal: 112ms\tremaining: 6.6s\n",
      "5:\tlearn: 8.6823566\ttotal: 132ms\tremaining: 6.49s\n",
      "6:\tlearn: 8.4880888\ttotal: 153ms\tremaining: 6.41s\n",
      "7:\tlearn: 8.2987344\ttotal: 172ms\tremaining: 6.29s\n",
      "8:\tlearn: 8.1090079\ttotal: 193ms\tremaining: 6.23s\n",
      "9:\tlearn: 7.9460975\ttotal: 214ms\tremaining: 6.19s\n",
      "10:\tlearn: 7.7821916\ttotal: 235ms\tremaining: 6.17s\n",
      "11:\tlearn: 7.6050384\ttotal: 255ms\tremaining: 6.12s\n",
      "12:\tlearn: 7.4510352\ttotal: 276ms\tremaining: 6.08s\n",
      "13:\tlearn: 7.2929821\ttotal: 297ms\tremaining: 6.06s\n",
      "14:\tlearn: 7.1381846\ttotal: 317ms\tremaining: 6.02s\n",
      "15:\tlearn: 6.9988927\ttotal: 336ms\tremaining: 5.97s\n",
      "16:\tlearn: 6.8672241\ttotal: 356ms\tremaining: 5.93s\n",
      "17:\tlearn: 6.7302579\ttotal: 376ms\tremaining: 5.89s\n",
      "18:\tlearn: 6.6071895\ttotal: 396ms\tremaining: 5.86s\n",
      "19:\tlearn: 6.4863306\ttotal: 417ms\tremaining: 5.83s\n",
      "20:\tlearn: 6.3736408\ttotal: 438ms\tremaining: 5.82s\n",
      "21:\tlearn: 6.2514491\ttotal: 459ms\tremaining: 5.8s\n",
      "22:\tlearn: 6.1328278\ttotal: 480ms\tremaining: 5.77s\n",
      "23:\tlearn: 6.0238299\ttotal: 499ms\tremaining: 5.74s\n",
      "24:\tlearn: 5.9231731\ttotal: 518ms\tremaining: 5.7s\n",
      "25:\tlearn: 5.8184204\ttotal: 536ms\tremaining: 5.65s\n",
      "26:\tlearn: 5.7234178\ttotal: 555ms\tremaining: 5.61s\n",
      "27:\tlearn: 5.6324170\ttotal: 573ms\tremaining: 5.56s\n",
      "28:\tlearn: 5.5461206\ttotal: 592ms\tremaining: 5.53s\n",
      "29:\tlearn: 5.4530222\ttotal: 614ms\tremaining: 5.53s\n",
      "30:\tlearn: 5.3746900\ttotal: 635ms\tremaining: 5.51s\n",
      "31:\tlearn: 5.2971355\ttotal: 657ms\tremaining: 5.5s\n",
      "32:\tlearn: 5.2269039\ttotal: 677ms\tremaining: 5.47s\n",
      "33:\tlearn: 5.1462385\ttotal: 697ms\tremaining: 5.46s\n",
      "34:\tlearn: 5.0687048\ttotal: 725ms\tremaining: 5.49s\n",
      "35:\tlearn: 4.9996417\ttotal: 745ms\tremaining: 5.46s\n",
      "36:\tlearn: 4.9325069\ttotal: 764ms\tremaining: 5.43s\n",
      "37:\tlearn: 4.8696450\ttotal: 782ms\tremaining: 5.39s\n",
      "38:\tlearn: 4.8062470\ttotal: 800ms\tremaining: 5.35s\n",
      "39:\tlearn: 4.7450380\ttotal: 821ms\tremaining: 5.33s\n",
      "40:\tlearn: 4.6908267\ttotal: 842ms\tremaining: 5.32s\n",
      "41:\tlearn: 4.6335504\ttotal: 862ms\tremaining: 5.29s\n",
      "42:\tlearn: 4.5774681\ttotal: 882ms\tremaining: 5.27s\n",
      "43:\tlearn: 4.5242814\ttotal: 901ms\tremaining: 5.24s\n",
      "44:\tlearn: 4.4735701\ttotal: 920ms\tremaining: 5.21s\n",
      "45:\tlearn: 4.4295658\ttotal: 937ms\tremaining: 5.18s\n",
      "46:\tlearn: 4.3858275\ttotal: 955ms\tremaining: 5.14s\n",
      "47:\tlearn: 4.3467922\ttotal: 973ms\tremaining: 5.11s\n",
      "48:\tlearn: 4.3067450\ttotal: 990ms\tremaining: 5.07s\n",
      "49:\tlearn: 4.2655956\ttotal: 1.01s\tremaining: 5.04s\n",
      "50:\tlearn: 4.2267357\ttotal: 1.03s\tremaining: 5.02s\n",
      "51:\tlearn: 4.1915139\ttotal: 1.04s\tremaining: 4.98s\n",
      "52:\tlearn: 4.1566002\ttotal: 1.06s\tremaining: 4.96s\n",
      "53:\tlearn: 4.1222494\ttotal: 1.08s\tremaining: 4.94s\n",
      "54:\tlearn: 4.0916652\ttotal: 1.1s\tremaining: 4.93s\n",
      "55:\tlearn: 4.0587915\ttotal: 1.13s\tremaining: 4.91s\n",
      "56:\tlearn: 4.0374741\ttotal: 1.15s\tremaining: 4.89s\n",
      "57:\tlearn: 4.0076724\ttotal: 1.18s\tremaining: 4.92s\n",
      "58:\tlearn: 3.9809152\ttotal: 1.2s\tremaining: 4.89s\n",
      "59:\tlearn: 3.9536084\ttotal: 1.22s\tremaining: 4.88s\n",
      "60:\tlearn: 3.9308951\ttotal: 1.24s\tremaining: 4.86s\n",
      "61:\tlearn: 3.9058097\ttotal: 1.26s\tremaining: 4.84s\n",
      "62:\tlearn: 3.8807421\ttotal: 1.28s\tremaining: 4.83s\n",
      "63:\tlearn: 3.8580826\ttotal: 1.3s\tremaining: 4.81s\n",
      "64:\tlearn: 3.8367225\ttotal: 1.32s\tremaining: 4.79s\n",
      "65:\tlearn: 3.8167679\ttotal: 1.34s\tremaining: 4.77s\n",
      "66:\tlearn: 3.8015781\ttotal: 1.36s\tremaining: 4.74s\n",
      "67:\tlearn: 3.7834858\ttotal: 1.38s\tremaining: 4.71s\n",
      "68:\tlearn: 3.7708991\ttotal: 1.4s\tremaining: 4.68s\n",
      "69:\tlearn: 3.7538561\ttotal: 1.42s\tremaining: 4.66s\n",
      "70:\tlearn: 3.7384966\ttotal: 1.43s\tremaining: 4.63s\n",
      "71:\tlearn: 3.7244672\ttotal: 1.45s\tremaining: 4.6s\n",
      "72:\tlearn: 3.7084580\ttotal: 1.47s\tremaining: 4.58s\n",
      "73:\tlearn: 3.6975511\ttotal: 1.49s\tremaining: 4.55s\n",
      "74:\tlearn: 3.6836179\ttotal: 1.51s\tremaining: 4.53s\n",
      "75:\tlearn: 3.6700975\ttotal: 1.53s\tremaining: 4.51s\n",
      "76:\tlearn: 3.6583603\ttotal: 1.55s\tremaining: 4.48s\n",
      "77:\tlearn: 3.6465880\ttotal: 1.57s\tremaining: 4.46s\n",
      "78:\tlearn: 3.6337319\ttotal: 1.58s\tremaining: 4.43s\n",
      "79:\tlearn: 3.6230563\ttotal: 1.6s\tremaining: 4.41s\n",
      "80:\tlearn: 3.6155785\ttotal: 1.62s\tremaining: 4.38s\n",
      "81:\tlearn: 3.6054113\ttotal: 1.64s\tremaining: 4.36s\n",
      "82:\tlearn: 3.5954391\ttotal: 1.66s\tremaining: 4.33s\n",
      "83:\tlearn: 3.5860204\ttotal: 1.68s\tremaining: 4.31s\n",
      "84:\tlearn: 3.5759352\ttotal: 1.69s\tremaining: 4.29s\n",
      "85:\tlearn: 3.5679647\ttotal: 1.71s\tremaining: 4.27s\n",
      "86:\tlearn: 3.5593601\ttotal: 1.73s\tremaining: 4.24s\n",
      "87:\tlearn: 3.5504949\ttotal: 1.75s\tremaining: 4.22s\n",
      "88:\tlearn: 3.5421072\ttotal: 1.77s\tremaining: 4.2s\n",
      "89:\tlearn: 3.5349037\ttotal: 1.79s\tremaining: 4.17s\n",
      "90:\tlearn: 3.5282044\ttotal: 1.8s\tremaining: 4.15s\n",
      "91:\tlearn: 3.5222502\ttotal: 1.82s\tremaining: 4.12s\n",
      "92:\tlearn: 3.5167693\ttotal: 1.84s\tremaining: 4.1s\n",
      "93:\tlearn: 3.5102570\ttotal: 1.86s\tremaining: 4.08s\n",
      "94:\tlearn: 3.5044626\ttotal: 1.88s\tremaining: 4.05s\n",
      "95:\tlearn: 3.5004643\ttotal: 1.9s\tremaining: 4.03s\n",
      "96:\tlearn: 3.4949350\ttotal: 1.92s\tremaining: 4.01s\n",
      "97:\tlearn: 3.4894950\ttotal: 1.93s\tremaining: 3.98s\n",
      "98:\tlearn: 3.4850348\ttotal: 1.95s\tremaining: 3.96s\n",
      "99:\tlearn: 3.4805013\ttotal: 1.97s\tremaining: 3.94s\n",
      "100:\tlearn: 3.4750986\ttotal: 1.99s\tremaining: 3.92s\n",
      "101:\tlearn: 3.4695788\ttotal: 2s\tremaining: 3.89s\n",
      "102:\tlearn: 3.4655477\ttotal: 2.02s\tremaining: 3.87s\n",
      "103:\tlearn: 3.4619903\ttotal: 2.04s\tremaining: 3.85s\n",
      "104:\tlearn: 3.4582965\ttotal: 2.06s\tremaining: 3.82s\n",
      "105:\tlearn: 3.4543511\ttotal: 2.08s\tremaining: 3.8s\n",
      "106:\tlearn: 3.4499496\ttotal: 2.1s\tremaining: 3.78s\n",
      "107:\tlearn: 3.4461420\ttotal: 2.12s\tremaining: 3.76s\n",
      "108:\tlearn: 3.4432791\ttotal: 2.14s\tremaining: 3.74s\n",
      "109:\tlearn: 3.4395269\ttotal: 2.15s\tremaining: 3.72s\n",
      "110:\tlearn: 3.4360070\ttotal: 2.17s\tremaining: 3.7s\n",
      "111:\tlearn: 3.4329710\ttotal: 2.19s\tremaining: 3.68s\n",
      "112:\tlearn: 3.4299826\ttotal: 2.21s\tremaining: 3.66s\n",
      "113:\tlearn: 3.4274066\ttotal: 2.23s\tremaining: 3.64s\n",
      "114:\tlearn: 3.4242270\ttotal: 2.25s\tremaining: 3.62s\n",
      "115:\tlearn: 3.4206903\ttotal: 2.27s\tremaining: 3.61s\n",
      "116:\tlearn: 3.4179514\ttotal: 2.29s\tremaining: 3.59s\n",
      "117:\tlearn: 3.4151336\ttotal: 2.32s\tremaining: 3.57s\n",
      "118:\tlearn: 3.4138677\ttotal: 2.34s\tremaining: 3.56s\n",
      "119:\tlearn: 3.4113341\ttotal: 2.36s\tremaining: 3.54s\n",
      "120:\tlearn: 3.4094835\ttotal: 2.38s\tremaining: 3.52s\n",
      "121:\tlearn: 3.4066222\ttotal: 2.4s\tremaining: 3.5s\n",
      "122:\tlearn: 3.4043269\ttotal: 2.42s\tremaining: 3.48s\n",
      "123:\tlearn: 3.4009666\ttotal: 2.44s\tremaining: 3.46s\n",
      "124:\tlearn: 3.3991723\ttotal: 2.46s\tremaining: 3.44s\n",
      "125:\tlearn: 3.3975566\ttotal: 2.48s\tremaining: 3.42s\n",
      "126:\tlearn: 3.3960277\ttotal: 2.5s\tremaining: 3.4s\n",
      "127:\tlearn: 3.3938534\ttotal: 2.52s\tremaining: 3.38s\n",
      "128:\tlearn: 3.3921164\ttotal: 2.54s\tremaining: 3.37s\n",
      "129:\tlearn: 3.3905238\ttotal: 2.56s\tremaining: 3.35s\n",
      "130:\tlearn: 3.3893779\ttotal: 2.58s\tremaining: 3.33s\n",
      "131:\tlearn: 3.3878694\ttotal: 2.6s\tremaining: 3.31s\n",
      "132:\tlearn: 3.3861917\ttotal: 2.62s\tremaining: 3.29s\n",
      "133:\tlearn: 3.3845354\ttotal: 2.64s\tremaining: 3.27s\n",
      "134:\tlearn: 3.3834004\ttotal: 2.66s\tremaining: 3.25s\n",
      "135:\tlearn: 3.3824513\ttotal: 2.68s\tremaining: 3.23s\n",
      "136:\tlearn: 3.3807062\ttotal: 2.7s\tremaining: 3.21s\n",
      "137:\tlearn: 3.3792541\ttotal: 2.72s\tremaining: 3.19s\n",
      "138:\tlearn: 3.3782968\ttotal: 2.74s\tremaining: 3.17s\n",
      "139:\tlearn: 3.3773042\ttotal: 2.76s\tremaining: 3.15s\n",
      "140:\tlearn: 3.3761265\ttotal: 2.78s\tremaining: 3.13s\n",
      "141:\tlearn: 3.3752495\ttotal: 2.8s\tremaining: 3.11s\n",
      "142:\tlearn: 3.3741320\ttotal: 2.82s\tremaining: 3.1s\n",
      "143:\tlearn: 3.3728401\ttotal: 2.84s\tremaining: 3.08s\n",
      "144:\tlearn: 3.3721896\ttotal: 2.86s\tremaining: 3.06s\n",
      "145:\tlearn: 3.3711058\ttotal: 2.88s\tremaining: 3.04s\n",
      "146:\tlearn: 3.3701420\ttotal: 2.9s\tremaining: 3.02s\n",
      "147:\tlearn: 3.3690713\ttotal: 2.92s\tremaining: 3s\n",
      "148:\tlearn: 3.3671996\ttotal: 2.94s\tremaining: 2.98s\n",
      "149:\tlearn: 3.3662653\ttotal: 2.96s\tremaining: 2.96s\n",
      "150:\tlearn: 3.3654993\ttotal: 2.98s\tremaining: 2.94s\n",
      "151:\tlearn: 3.3646126\ttotal: 3s\tremaining: 2.92s\n",
      "152:\tlearn: 3.3638034\ttotal: 3.02s\tremaining: 2.9s\n",
      "153:\tlearn: 3.3616999\ttotal: 3.04s\tremaining: 2.88s\n",
      "154:\tlearn: 3.3609617\ttotal: 3.06s\tremaining: 2.86s\n",
      "155:\tlearn: 3.3604900\ttotal: 3.07s\tremaining: 2.84s\n",
      "156:\tlearn: 3.3597499\ttotal: 3.09s\tremaining: 2.82s\n",
      "157:\tlearn: 3.3578824\ttotal: 3.11s\tremaining: 2.8s\n",
      "158:\tlearn: 3.3571643\ttotal: 3.13s\tremaining: 2.78s\n",
      "159:\tlearn: 3.3564412\ttotal: 3.15s\tremaining: 2.76s\n",
      "160:\tlearn: 3.3557651\ttotal: 3.17s\tremaining: 2.74s\n",
      "161:\tlearn: 3.3549938\ttotal: 3.19s\tremaining: 2.72s\n",
      "162:\tlearn: 3.3543041\ttotal: 3.21s\tremaining: 2.7s\n",
      "163:\tlearn: 3.3535077\ttotal: 3.23s\tremaining: 2.68s\n",
      "164:\tlearn: 3.3527681\ttotal: 3.25s\tremaining: 2.66s\n",
      "165:\tlearn: 3.3517916\ttotal: 3.26s\tremaining: 2.63s\n",
      "166:\tlearn: 3.3506264\ttotal: 3.28s\tremaining: 2.61s\n"
     ]
    },
    {
     "name": "stdout",
     "output_type": "stream",
     "text": [
      "167:\tlearn: 3.3503561\ttotal: 3.3s\tremaining: 2.59s\n",
      "168:\tlearn: 3.3495454\ttotal: 3.32s\tremaining: 2.57s\n",
      "169:\tlearn: 3.3492340\ttotal: 3.34s\tremaining: 2.55s\n",
      "170:\tlearn: 3.3485545\ttotal: 3.36s\tremaining: 2.53s\n",
      "171:\tlearn: 3.3480256\ttotal: 3.38s\tremaining: 2.51s\n",
      "172:\tlearn: 3.3477808\ttotal: 3.4s\tremaining: 2.49s\n",
      "173:\tlearn: 3.3471958\ttotal: 3.42s\tremaining: 2.47s\n",
      "174:\tlearn: 3.3463111\ttotal: 3.43s\tremaining: 2.45s\n",
      "175:\tlearn: 3.3457320\ttotal: 3.45s\tremaining: 2.43s\n",
      "176:\tlearn: 3.3450543\ttotal: 3.48s\tremaining: 2.42s\n",
      "177:\tlearn: 3.3446703\ttotal: 3.5s\tremaining: 2.4s\n",
      "178:\tlearn: 3.3439347\ttotal: 3.52s\tremaining: 2.38s\n",
      "179:\tlearn: 3.3435854\ttotal: 3.54s\tremaining: 2.36s\n",
      "180:\tlearn: 3.3432080\ttotal: 3.56s\tremaining: 2.34s\n",
      "181:\tlearn: 3.3428008\ttotal: 3.58s\tremaining: 2.32s\n",
      "182:\tlearn: 3.3411642\ttotal: 3.6s\tremaining: 2.3s\n",
      "183:\tlearn: 3.3408399\ttotal: 3.62s\tremaining: 2.28s\n",
      "184:\tlearn: 3.3404122\ttotal: 3.63s\tremaining: 2.26s\n",
      "185:\tlearn: 3.3381560\ttotal: 3.65s\tremaining: 2.24s\n",
      "186:\tlearn: 3.3367208\ttotal: 3.67s\tremaining: 2.22s\n",
      "187:\tlearn: 3.3362076\ttotal: 3.69s\tremaining: 2.2s\n",
      "188:\tlearn: 3.3349226\ttotal: 3.71s\tremaining: 2.18s\n",
      "189:\tlearn: 3.3339308\ttotal: 3.72s\tremaining: 2.16s\n",
      "190:\tlearn: 3.3337322\ttotal: 3.74s\tremaining: 2.14s\n",
      "191:\tlearn: 3.3332637\ttotal: 3.76s\tremaining: 2.12s\n",
      "192:\tlearn: 3.3320324\ttotal: 3.78s\tremaining: 2.1s\n",
      "193:\tlearn: 3.3311654\ttotal: 3.8s\tremaining: 2.08s\n",
      "194:\tlearn: 3.3306443\ttotal: 3.82s\tremaining: 2.06s\n",
      "195:\tlearn: 3.3303060\ttotal: 3.84s\tremaining: 2.04s\n",
      "196:\tlearn: 3.3299757\ttotal: 3.86s\tremaining: 2.02s\n",
      "197:\tlearn: 3.3289750\ttotal: 3.88s\tremaining: 2s\n",
      "198:\tlearn: 3.3281363\ttotal: 3.89s\tremaining: 1.98s\n",
      "199:\tlearn: 3.3276470\ttotal: 3.91s\tremaining: 1.96s\n",
      "200:\tlearn: 3.3273544\ttotal: 3.93s\tremaining: 1.94s\n",
      "201:\tlearn: 3.3268936\ttotal: 3.95s\tremaining: 1.92s\n",
      "202:\tlearn: 3.3263788\ttotal: 3.97s\tremaining: 1.9s\n",
      "203:\tlearn: 3.3252503\ttotal: 3.99s\tremaining: 1.88s\n",
      "204:\tlearn: 3.3243236\ttotal: 4.01s\tremaining: 1.86s\n",
      "205:\tlearn: 3.3240554\ttotal: 4.02s\tremaining: 1.84s\n",
      "206:\tlearn: 3.3237734\ttotal: 4.04s\tremaining: 1.81s\n",
      "207:\tlearn: 3.3233556\ttotal: 4.06s\tremaining: 1.79s\n",
      "208:\tlearn: 3.3227035\ttotal: 4.08s\tremaining: 1.77s\n",
      "209:\tlearn: 3.3225067\ttotal: 4.1s\tremaining: 1.75s\n",
      "210:\tlearn: 3.3222735\ttotal: 4.11s\tremaining: 1.73s\n",
      "211:\tlearn: 3.3216245\ttotal: 4.12s\tremaining: 1.71s\n",
      "212:\tlearn: 3.3206225\ttotal: 4.14s\tremaining: 1.69s\n",
      "213:\tlearn: 3.3204216\ttotal: 4.16s\tremaining: 1.67s\n",
      "214:\tlearn: 3.3198452\ttotal: 4.17s\tremaining: 1.65s\n",
      "215:\tlearn: 3.3189114\ttotal: 4.19s\tremaining: 1.63s\n",
      "216:\tlearn: 3.3186772\ttotal: 4.21s\tremaining: 1.61s\n",
      "217:\tlearn: 3.3180168\ttotal: 4.23s\tremaining: 1.59s\n",
      "218:\tlearn: 3.3174998\ttotal: 4.25s\tremaining: 1.57s\n",
      "219:\tlearn: 3.3171839\ttotal: 4.27s\tremaining: 1.55s\n",
      "220:\tlearn: 3.3169054\ttotal: 4.29s\tremaining: 1.53s\n",
      "221:\tlearn: 3.3163202\ttotal: 4.3s\tremaining: 1.51s\n",
      "222:\tlearn: 3.3156900\ttotal: 4.32s\tremaining: 1.49s\n",
      "223:\tlearn: 3.3153330\ttotal: 4.34s\tremaining: 1.47s\n",
      "224:\tlearn: 3.3146399\ttotal: 4.36s\tremaining: 1.45s\n",
      "225:\tlearn: 3.3142484\ttotal: 4.38s\tremaining: 1.43s\n",
      "226:\tlearn: 3.3139985\ttotal: 4.4s\tremaining: 1.41s\n",
      "227:\tlearn: 3.3121514\ttotal: 4.42s\tremaining: 1.4s\n",
      "228:\tlearn: 3.3119325\ttotal: 4.44s\tremaining: 1.38s\n",
      "229:\tlearn: 3.3114706\ttotal: 4.46s\tremaining: 1.36s\n",
      "230:\tlearn: 3.3101863\ttotal: 4.47s\tremaining: 1.34s\n",
      "231:\tlearn: 3.3096527\ttotal: 4.49s\tremaining: 1.32s\n",
      "232:\tlearn: 3.3088465\ttotal: 4.51s\tremaining: 1.3s\n",
      "233:\tlearn: 3.3086088\ttotal: 4.53s\tremaining: 1.28s\n",
      "234:\tlearn: 3.3083039\ttotal: 4.54s\tremaining: 1.26s\n",
      "235:\tlearn: 3.3081849\ttotal: 4.56s\tremaining: 1.24s\n",
      "236:\tlearn: 3.3077894\ttotal: 4.58s\tremaining: 1.22s\n",
      "237:\tlearn: 3.3074029\ttotal: 4.6s\tremaining: 1.2s\n",
      "238:\tlearn: 3.3071771\ttotal: 4.62s\tremaining: 1.18s\n",
      "239:\tlearn: 3.3062997\ttotal: 4.64s\tremaining: 1.16s\n",
      "240:\tlearn: 3.3057150\ttotal: 4.66s\tremaining: 1.14s\n",
      "241:\tlearn: 3.3045989\ttotal: 4.67s\tremaining: 1.12s\n",
      "242:\tlearn: 3.3034922\ttotal: 4.69s\tremaining: 1.1s\n",
      "243:\tlearn: 3.3029601\ttotal: 4.71s\tremaining: 1.08s\n",
      "244:\tlearn: 3.3025921\ttotal: 4.73s\tremaining: 1.06s\n",
      "245:\tlearn: 3.3016829\ttotal: 4.75s\tremaining: 1.04s\n",
      "246:\tlearn: 3.3008377\ttotal: 4.76s\tremaining: 1.02s\n",
      "247:\tlearn: 3.3007298\ttotal: 4.79s\tremaining: 1s\n",
      "248:\tlearn: 3.2992581\ttotal: 4.8s\tremaining: 984ms\n",
      "249:\tlearn: 3.2982939\ttotal: 4.82s\tremaining: 965ms\n",
      "250:\tlearn: 3.2981478\ttotal: 4.84s\tremaining: 946ms\n",
      "251:\tlearn: 3.2979653\ttotal: 4.86s\tremaining: 926ms\n",
      "252:\tlearn: 3.2976224\ttotal: 4.88s\tremaining: 906ms\n",
      "253:\tlearn: 3.2967219\ttotal: 4.9s\tremaining: 887ms\n",
      "254:\tlearn: 3.2964418\ttotal: 4.91s\tremaining: 867ms\n",
      "255:\tlearn: 3.2959438\ttotal: 4.93s\tremaining: 848ms\n",
      "256:\tlearn: 3.2955095\ttotal: 4.95s\tremaining: 828ms\n",
      "257:\tlearn: 3.2952445\ttotal: 4.97s\tremaining: 809ms\n",
      "258:\tlearn: 3.2947484\ttotal: 4.99s\tremaining: 790ms\n",
      "259:\tlearn: 3.2943919\ttotal: 5.01s\tremaining: 770ms\n",
      "260:\tlearn: 3.2937777\ttotal: 5.03s\tremaining: 751ms\n",
      "261:\tlearn: 3.2935383\ttotal: 5.05s\tremaining: 732ms\n",
      "262:\tlearn: 3.2927984\ttotal: 5.06s\tremaining: 712ms\n",
      "263:\tlearn: 3.2925006\ttotal: 5.08s\tremaining: 693ms\n",
      "264:\tlearn: 3.2924095\ttotal: 5.09s\tremaining: 673ms\n",
      "265:\tlearn: 3.2911021\ttotal: 5.11s\tremaining: 653ms\n",
      "266:\tlearn: 3.2902716\ttotal: 5.13s\tremaining: 634ms\n",
      "267:\tlearn: 3.2887871\ttotal: 5.15s\tremaining: 615ms\n",
      "268:\tlearn: 3.2873360\ttotal: 5.17s\tremaining: 595ms\n",
      "269:\tlearn: 3.2870354\ttotal: 5.19s\tremaining: 576ms\n",
      "270:\tlearn: 3.2865577\ttotal: 5.21s\tremaining: 557ms\n",
      "271:\tlearn: 3.2859721\ttotal: 5.23s\tremaining: 538ms\n",
      "272:\tlearn: 3.2854080\ttotal: 5.25s\tremaining: 519ms\n",
      "273:\tlearn: 3.2848753\ttotal: 5.26s\tremaining: 500ms\n",
      "274:\tlearn: 3.2840078\ttotal: 5.28s\tremaining: 480ms\n",
      "275:\tlearn: 3.2837260\ttotal: 5.3s\tremaining: 461ms\n",
      "276:\tlearn: 3.2834276\ttotal: 5.32s\tremaining: 442ms\n",
      "277:\tlearn: 3.2822263\ttotal: 5.34s\tremaining: 423ms\n",
      "278:\tlearn: 3.2811584\ttotal: 5.36s\tremaining: 403ms\n",
      "279:\tlearn: 3.2799441\ttotal: 5.38s\tremaining: 384ms\n",
      "280:\tlearn: 3.2791663\ttotal: 5.39s\tremaining: 365ms\n",
      "281:\tlearn: 3.2788942\ttotal: 5.41s\tremaining: 346ms\n",
      "282:\tlearn: 3.2785978\ttotal: 5.43s\tremaining: 326ms\n",
      "283:\tlearn: 3.2771658\ttotal: 5.45s\tremaining: 307ms\n",
      "284:\tlearn: 3.2764701\ttotal: 5.47s\tremaining: 288ms\n",
      "285:\tlearn: 3.2753672\ttotal: 5.49s\tremaining: 269ms\n",
      "286:\tlearn: 3.2742654\ttotal: 5.51s\tremaining: 250ms\n",
      "287:\tlearn: 3.2728784\ttotal: 5.53s\tremaining: 230ms\n",
      "288:\tlearn: 3.2721918\ttotal: 5.55s\tremaining: 211ms\n",
      "289:\tlearn: 3.2709331\ttotal: 5.56s\tremaining: 192ms\n",
      "290:\tlearn: 3.2697499\ttotal: 5.58s\tremaining: 173ms\n",
      "291:\tlearn: 3.2695074\ttotal: 5.6s\tremaining: 153ms\n",
      "292:\tlearn: 3.2690348\ttotal: 5.62s\tremaining: 134ms\n",
      "293:\tlearn: 3.2677956\ttotal: 5.64s\tremaining: 115ms\n",
      "294:\tlearn: 3.2674506\ttotal: 5.66s\tremaining: 95.9ms\n",
      "295:\tlearn: 3.2666065\ttotal: 5.68s\tremaining: 76.8ms\n",
      "296:\tlearn: 3.2657093\ttotal: 5.7s\tremaining: 57.6ms\n",
      "297:\tlearn: 3.2643393\ttotal: 5.72s\tremaining: 38.4ms\n",
      "298:\tlearn: 3.2639027\ttotal: 5.73s\tremaining: 19.2ms\n",
      "299:\tlearn: 3.2636341\ttotal: 5.75s\tremaining: 0us\n"
     ]
    }
   ],
   "source": [
    "model = CatBoostRegressor(iterations=300,\n",
    "                          loss_function=f'MultiQuantile:alpha={quantile_str}')\n",
    "\n",
    "model.fit(x_train.reshape(-1, 1), y_train)\n",
    "\n",
    "preds = model.predict(x_test.reshape(-1, 1))\n",
    "preds = pd.DataFrame(preds, columns=[f'pred_{q}' for q in quantiles])"
   ]
  },
  {
   "cell_type": "code",
   "execution_count": 11,
   "metadata": {
    "ExecuteTime": {
     "end_time": "2023-02-25T09:20:35.476739Z",
     "start_time": "2023-02-25T09:20:35.237036Z"
    }
   },
   "outputs": [
    {
     "data": {
      "text/plain": [
       "<matplotlib.legend.Legend at 0x7feb3d9b7ee0>"
      ]
     },
     "execution_count": 11,
     "metadata": {},
     "output_type": "execute_result"
    },
    {
     "data": {
      "image/png": "[encoded data removed]",
      "text/plain": [
       "<Figure size 720x432 with 1 Axes>"
      ]
     },
     "metadata": {},
     "output_type": "display_data"
    }
   ],
   "source": [
    "fig, ax = plt.subplots(figsize=(10, 6))\n",
    "ax.scatter(x_test, y_test)\n",
    "\n",
    "for col in ['pred_0.05', 'pred_0.5', 'pred_0.95']:\n",
    "\n",
    "    quantile = int(float(col.split('_')[-1])*100)\n",
    "    label_name = f'Predicted Quantile {quantile}'\n",
    "    ax.scatter(x_test.reshape(-1, 1), preds[col], alpha=0.50, label=label_name)\n",
    "\n",
    "ax.set_xlabel('x')\n",
    "ax.set_ylabel('y')\n",
    "ax.set_title('Testing Data for Example 2 with Predicted Quantiles')\n",
    "ax.legend()"
   ]
  },
  {
   "cell_type": "markdown",
   "metadata": {},
   "source": [
    "    \n",
    "- Upon visual inspection, the model has characterized this non-linear, heteroscedastic relationship well. Notice how, near x = 0, the three predicted quantiles converge towards a single value.\n",
    "- This is because the region near x = 0 has almost no noise — any model that correctly predicts the conditional probability distribution in this region should predict a small variance. Conversely, when x is between 7.5 and 10.0, the predicted quantiles are much further apart because of the inherent noise in the region. 90% coverage can be computed as before:\n",
    "    \n",
""   ]
  },
  {
   "cell_type": "code",
   "execution_count": 12,
   "metadata": {
    "ExecuteTime": {
     "end_time": "2023-02-25T09:20:35.482432Z",
     "start_time": "2023-02-25T09:20:35.478652Z"
    }
   },
   "outputs": [
    {
     "name": "stdout",
     "output_type": "stream",
     "text": [
      "88.60759493670885\n"
     ]
    }
   ],
   "source": [
    "coverage_90 = np.mean((y_test <= preds['pred_0.95']) & (\n",
    "    y_test >= preds['pred_0.05']))*100\n",
    "print(coverage_90)"
   ]
  },
  {
   "cell_type": "markdown",
   "metadata": {},
   "source": [
    "# Folder clean-up\n",
    "<hr style=\"border:2px solid black\"> </hr>"
   ]
  },
  {
   "cell_type": "code",
   "execution_count": 13,
   "metadata": {
    "ExecuteTime": {
     "end_time": "2023-02-25T09:20:35.613119Z",
     "start_time": "2023-02-25T09:20:35.483841Z"
    }
   },
   "outputs": [],
   "source": [
    "!rm -rf catboost_info"
   ]
  },
  {
   "cell_type": "markdown",
   "metadata": {},
   "source": [
    "# Conclusions\n",
    "<hr style=\"border:2px solid black\"> </hr>"
   ]
  },
  {
   "cell_type": "markdown",
   "metadata": {},
   "source": [
    "    \n",
    "- It’s important to note that quantile regression makes no statistical or algorithmic guarantees of convergence, and the performance of these models will vary depending on the nature of the learning problem. \n",
    "\n",
""   ]
  },
  {
   "cell_type": "markdown",
   "metadata": {},
   "source": [
    "# References\n",
    "<hr style=\"border:2px solid black\"> </hr>"
   ]
  },
  {
   "cell_type": "markdown",
   "metadata": {},
   "source": [
    "\n",
    "- https://towardsdatascience.com/a-new-way-to-predict-probability-distributions-e7258349f464\n",
    "- https://catboost.ai/en/docs/concepts/loss-functions-regression#MultiQuantile\n",
    "- https://brendanhasz.github.io/2018/12/15/quantile-regression.html\n",
    "    \n",
""   ]
  },
  {
   "cell_type": "markdown",
   "metadata": {
    "ExecuteTime": {
     "end_time": "2023-02-25T08:43:54.888715Z",
     "start_time": "2023-02-25T08:43:54.885521Z"
    }
   },
   "source": [
    "# Requirements\n",
    "<hr style=\"border:2px solid black\"> </hr>"
   ]
  },
  {
   "cell_type": "code",
   "execution_count": 14,
   "metadata": {
    "ExecuteTime": {
     "end_time": "2023-02-25T09:20:35.643313Z",
     "start_time": "2023-02-25T09:20:35.616840Z"
    }
   },
   "outputs": [
    {
     "name": "stdout",
     "output_type": "stream",
     "text": [
      "Python implementation: CPython\n",
      "Python version       : 3.9.7\n",
      "IPython version      : 7.29.0\n",
      "\n",
      "matplotlib: 3.5.1\n",
      "catboost  : 1.1.1\n",
      "seaborn   : 0.11.2\n",
      "json      : 2.0.9\n",
      "pandas    : 1.5.3\n",
      "autopep8  : 1.6.0\n",
      "numpy     : 1.21.6\n",
      "\n"
     ]
    }
   ],
   "source": [
    "%load_ext watermark\n",
    "%watermark -v -iv"
   ]
  },
  {
   "cell_type": "code",
   "execution_count": null,
   "metadata": {},
   "outputs": [],
   "source": []
  }
 ],
 "metadata": {
  "hide_input": false,
  "kernelspec": {
   "display_name": "trainingAI",
   "language": "python",
   "name": "trainingai"
  },
  "language_info": {
   "codemirror_mode": {
    "name": "ipython",
    "version": 3
   },
   "file_extension": ".py",
   "mimetype": "text/x-python",
   "name": "python",
   "nbconvert_exporter": "python",
   "pygments_lexer": "ipython3",
   "version": "3.9.7"
  },
  "toc": {
   "base_numbering": 1,
   "nav_menu": {},
   "number_sections": true,
   "sideBar": true,
   "skip_h1_title": false,
   "title_cell": "Table of Contents",
   "title_sidebar": "Contents",
   "toc_cell": true,
   "toc_position": {
    "height": "calc(100% - 180px)",
    "left": "10px",
    "top": "150px",
    "width": "274.75px"
   },
   "toc_section_display": true,
   "toc_window_display": true
  },
  "varInspector": {
   "cols": {
    "lenName": 16,
    "lenType": 16,
    "lenVar": 40
   },
   "kernels_config": {
    "python": {
     "delete_cmd_postfix": "",
     "delete_cmd_prefix": "del ",
     "library": "var_list.py",
     "varRefreshCmd": "print(var_dic_list())"
    },
    "r": {
     "delete_cmd_postfix": ") ",
     "delete_cmd_prefix": "rm(",
     "library": "var_list.r",
     "varRefreshCmd": "cat(var_dic_list()) "
    }
   },
   "types_to_exclude": [
    "module",
    "function",
    "builtin_function_or_method",
    "instance",
    "_Feature"
   ],
   "window_display": false
  }
 },
 "nbformat": 4,
 "nbformat_minor": 2
}
